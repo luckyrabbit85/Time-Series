{
  "nbformat": 4,
  "nbformat_minor": 0,
  "metadata": {
    "colab": {
      "name": "Moving_Averages.ipynb",
      "provenance": [],
      "collapsed_sections": []
    },
    "kernelspec": {
      "name": "python3",
      "display_name": "Python 3"
    }
  },
  "cells": [
    {
      "cell_type": "markdown",
      "metadata": {
        "id": "eUfgI7xiS7cz"
      },
      "source": [
        "## Moving averages\n",
        "\n",
        "We will explore the most fundamental time series forecasting model — simple moving averages (MA).\n",
        "\n",
        "## Assumptions:\n",
        "\n",
        "The basic assumption behind averaging and smoothing models is that the time series is locally stationary with a slowly varying mean. Hence, we take a moving (local) average to estimate the current value of the mean and then use that as the forecast for the near future.\n",
        "\n",
        "A moving average is often called a \"smoothed\" version of the original series because short-term averaging has the effect of smoothing out the bumps in the original series. By adjusting the degree of smoothing (the width of the moving average), we can hope to strike some kind of optimal balance between the performance of the mean and random walk models."
      ]
    },
    {
      "cell_type": "code",
      "metadata": {
        "id": "CY5G7SE9PLEB"
      },
      "source": [
        "import matplotlib as mpl\n",
        "import matplotlib.pyplot as plt\n",
        "import numpy as np\n",
        "import os\n",
        "from datetime import datetime\n",
        "import pandas as pd\n",
        "\n",
        "mpl.rcParams['figure.figsize'] = (10, 8)\n",
        "mpl.rcParams['axes.grid'] = False"
      ],
      "execution_count": 1,
      "outputs": []
    },
    {
      "cell_type": "code",
      "metadata": {
        "id": "pc9-9rleb9_Y"
      },
      "source": [
        "def parse(x):\n",
        "\treturn datetime.strptime(x, '%Y-%m')"
      ],
      "execution_count": 2,
      "outputs": []
    },
    {
      "cell_type": "code",
      "metadata": {
        "id": "WSoh7Ze0P-jd",
        "colab": {
          "base_uri": "https://localhost:8080/",
          "height": 206
        },
        "outputId": "95690157-0e9c-448c-cffc-fa6c81145d45"
      },
      "source": [
        "df = pd.read_csv('https://raw.githubusercontent.com/luckyrabbit85/Time-Series/main/data/airline-passengers.csv', parse_dates = ['Month'],date_parser=parse)\n",
        "df.head()"
      ],
      "execution_count": 3,
      "outputs": [
        {
          "output_type": "execute_result",
          "data": {
            "text/html": [
              "<div>\n",
              "<style scoped>\n",
              "    .dataframe tbody tr th:only-of-type {\n",
              "        vertical-align: middle;\n",
              "    }\n",
              "\n",
              "    .dataframe tbody tr th {\n",
              "        vertical-align: top;\n",
              "    }\n",
              "\n",
              "    .dataframe thead th {\n",
              "        text-align: right;\n",
              "    }\n",
              "</style>\n",
              "<table border=\"1\" class=\"dataframe\">\n",
              "  <thead>\n",
              "    <tr style=\"text-align: right;\">\n",
              "      <th></th>\n",
              "      <th>Month</th>\n",
              "      <th>Passengers</th>\n",
              "    </tr>\n",
              "  </thead>\n",
              "  <tbody>\n",
              "    <tr>\n",
              "      <th>0</th>\n",
              "      <td>1949-01-01</td>\n",
              "      <td>112</td>\n",
              "    </tr>\n",
              "    <tr>\n",
              "      <th>1</th>\n",
              "      <td>1949-02-01</td>\n",
              "      <td>118</td>\n",
              "    </tr>\n",
              "    <tr>\n",
              "      <th>2</th>\n",
              "      <td>1949-03-01</td>\n",
              "      <td>132</td>\n",
              "    </tr>\n",
              "    <tr>\n",
              "      <th>3</th>\n",
              "      <td>1949-04-01</td>\n",
              "      <td>129</td>\n",
              "    </tr>\n",
              "    <tr>\n",
              "      <th>4</th>\n",
              "      <td>1949-05-01</td>\n",
              "      <td>121</td>\n",
              "    </tr>\n",
              "  </tbody>\n",
              "</table>\n",
              "</div>"
            ],
            "text/plain": [
              "       Month  Passengers\n",
              "0 1949-01-01         112\n",
              "1 1949-02-01         118\n",
              "2 1949-03-01         132\n",
              "3 1949-04-01         129\n",
              "4 1949-05-01         121"
            ]
          },
          "metadata": {},
          "execution_count": 3
        }
      ]
    },
    {
      "cell_type": "code",
      "metadata": {
        "colab": {
          "base_uri": "https://localhost:8080/",
          "height": 206
        },
        "id": "8Df7fgZmWrg2",
        "outputId": "89dc78c1-453e-46c5-e101-e6cd9e7b9965"
      },
      "source": [
        "df.columns = [\"Date\", \"Passenger_Count\"]\n",
        "df.head()"
      ],
      "execution_count": 4,
      "outputs": [
        {
          "output_type": "execute_result",
          "data": {
            "text/html": [
              "<div>\n",
              "<style scoped>\n",
              "    .dataframe tbody tr th:only-of-type {\n",
              "        vertical-align: middle;\n",
              "    }\n",
              "\n",
              "    .dataframe tbody tr th {\n",
              "        vertical-align: top;\n",
              "    }\n",
              "\n",
              "    .dataframe thead th {\n",
              "        text-align: right;\n",
              "    }\n",
              "</style>\n",
              "<table border=\"1\" class=\"dataframe\">\n",
              "  <thead>\n",
              "    <tr style=\"text-align: right;\">\n",
              "      <th></th>\n",
              "      <th>Date</th>\n",
              "      <th>Passenger_Count</th>\n",
              "    </tr>\n",
              "  </thead>\n",
              "  <tbody>\n",
              "    <tr>\n",
              "      <th>0</th>\n",
              "      <td>1949-01-01</td>\n",
              "      <td>112</td>\n",
              "    </tr>\n",
              "    <tr>\n",
              "      <th>1</th>\n",
              "      <td>1949-02-01</td>\n",
              "      <td>118</td>\n",
              "    </tr>\n",
              "    <tr>\n",
              "      <th>2</th>\n",
              "      <td>1949-03-01</td>\n",
              "      <td>132</td>\n",
              "    </tr>\n",
              "    <tr>\n",
              "      <th>3</th>\n",
              "      <td>1949-04-01</td>\n",
              "      <td>129</td>\n",
              "    </tr>\n",
              "    <tr>\n",
              "      <th>4</th>\n",
              "      <td>1949-05-01</td>\n",
              "      <td>121</td>\n",
              "    </tr>\n",
              "  </tbody>\n",
              "</table>\n",
              "</div>"
            ],
            "text/plain": [
              "        Date  Passenger_Count\n",
              "0 1949-01-01              112\n",
              "1 1949-02-01              118\n",
              "2 1949-03-01              132\n",
              "3 1949-04-01              129\n",
              "4 1949-05-01              121"
            ]
          },
          "metadata": {},
          "execution_count": 4
        }
      ]
    },
    {
      "cell_type": "code",
      "metadata": {
        "colab": {
          "base_uri": "https://localhost:8080/"
        },
        "id": "HlCxTG7qFVpo",
        "outputId": "3dd2ddf4-7238-4b84-950a-8927f98cb4f2"
      },
      "source": [
        "df.info()"
      ],
      "execution_count": 5,
      "outputs": [
        {
          "output_type": "stream",
          "name": "stdout",
          "text": [
            "<class 'pandas.core.frame.DataFrame'>\n",
            "RangeIndex: 144 entries, 0 to 143\n",
            "Data columns (total 2 columns):\n",
            " #   Column           Non-Null Count  Dtype         \n",
            "---  ------           --------------  -----         \n",
            " 0   Date             144 non-null    datetime64[ns]\n",
            " 1   Passenger_Count  144 non-null    int64         \n",
            "dtypes: datetime64[ns](1), int64(1)\n",
            "memory usage: 2.4 KB\n"
          ]
        }
      ]
    },
    {
      "cell_type": "code",
      "metadata": {
        "id": "ekRbR-YqwEtA",
        "colab": {
          "base_uri": "https://localhost:8080/"
        },
        "outputId": "74034547-e916-43f6-8c15-1c678689d0df"
      },
      "source": [
        "print (\"Rows     : \" ,df.shape[0])\n",
        "print (\"Columns  : \" ,df.shape[1])\n",
        "print (\"Features : \" ,df.columns.tolist())\n",
        "print (\"Missing values :\\n\", df.isnull().any())\n",
        "print (\"Unique values :\\n\",df.nunique())"
      ],
      "execution_count": 6,
      "outputs": [
        {
          "output_type": "stream",
          "name": "stdout",
          "text": [
            "Rows     :  144\n",
            "Columns  :  2\n",
            "Features :  ['Date', 'Passenger_Count']\n",
            "Missing values :\n",
            " Date               False\n",
            "Passenger_Count    False\n",
            "dtype: bool\n",
            "Unique values :\n",
            " Date               144\n",
            "Passenger_Count    118\n",
            "dtype: int64\n"
          ]
        }
      ]
    },
    {
      "cell_type": "code",
      "metadata": {
        "id": "bJHsRdAl5C6I"
      },
      "source": [
        "df = df.set_index(\"Date\")"
      ],
      "execution_count": 7,
      "outputs": []
    },
    {
      "cell_type": "code",
      "metadata": {
        "id": "A5LxljglE8_x",
        "colab": {
          "base_uri": "https://localhost:8080/",
          "height": 237
        },
        "outputId": "d792f828-ebd6-4106-e765-de94c3aa87bd"
      },
      "source": [
        "df.head()"
      ],
      "execution_count": 8,
      "outputs": [
        {
          "output_type": "execute_result",
          "data": {
            "text/html": [
              "<div>\n",
              "<style scoped>\n",
              "    .dataframe tbody tr th:only-of-type {\n",
              "        vertical-align: middle;\n",
              "    }\n",
              "\n",
              "    .dataframe tbody tr th {\n",
              "        vertical-align: top;\n",
              "    }\n",
              "\n",
              "    .dataframe thead th {\n",
              "        text-align: right;\n",
              "    }\n",
              "</style>\n",
              "<table border=\"1\" class=\"dataframe\">\n",
              "  <thead>\n",
              "    <tr style=\"text-align: right;\">\n",
              "      <th></th>\n",
              "      <th>Passenger_Count</th>\n",
              "    </tr>\n",
              "    <tr>\n",
              "      <th>Date</th>\n",
              "      <th></th>\n",
              "    </tr>\n",
              "  </thead>\n",
              "  <tbody>\n",
              "    <tr>\n",
              "      <th>1949-01-01</th>\n",
              "      <td>112</td>\n",
              "    </tr>\n",
              "    <tr>\n",
              "      <th>1949-02-01</th>\n",
              "      <td>118</td>\n",
              "    </tr>\n",
              "    <tr>\n",
              "      <th>1949-03-01</th>\n",
              "      <td>132</td>\n",
              "    </tr>\n",
              "    <tr>\n",
              "      <th>1949-04-01</th>\n",
              "      <td>129</td>\n",
              "    </tr>\n",
              "    <tr>\n",
              "      <th>1949-05-01</th>\n",
              "      <td>121</td>\n",
              "    </tr>\n",
              "  </tbody>\n",
              "</table>\n",
              "</div>"
            ],
            "text/plain": [
              "            Passenger_Count\n",
              "Date                       \n",
              "1949-01-01              112\n",
              "1949-02-01              118\n",
              "1949-03-01              132\n",
              "1949-04-01              129\n",
              "1949-05-01              121"
            ]
          },
          "metadata": {},
          "execution_count": 8
        }
      ]
    },
    {
      "cell_type": "code",
      "metadata": {
        "colab": {
          "base_uri": "https://localhost:8080/",
          "height": 81
        },
        "id": "Q8SkFHxUXCbI",
        "outputId": "2a7e90ce-564a-4216-b0ea-fc3fddf3af59"
      },
      "source": [
        "df.describe().T"
      ],
      "execution_count": 9,
      "outputs": [
        {
          "output_type": "execute_result",
          "data": {
            "text/html": [
              "<div>\n",
              "<style scoped>\n",
              "    .dataframe tbody tr th:only-of-type {\n",
              "        vertical-align: middle;\n",
              "    }\n",
              "\n",
              "    .dataframe tbody tr th {\n",
              "        vertical-align: top;\n",
              "    }\n",
              "\n",
              "    .dataframe thead th {\n",
              "        text-align: right;\n",
              "    }\n",
              "</style>\n",
              "<table border=\"1\" class=\"dataframe\">\n",
              "  <thead>\n",
              "    <tr style=\"text-align: right;\">\n",
              "      <th></th>\n",
              "      <th>count</th>\n",
              "      <th>mean</th>\n",
              "      <th>std</th>\n",
              "      <th>min</th>\n",
              "      <th>25%</th>\n",
              "      <th>50%</th>\n",
              "      <th>75%</th>\n",
              "      <th>max</th>\n",
              "    </tr>\n",
              "  </thead>\n",
              "  <tbody>\n",
              "    <tr>\n",
              "      <th>Passenger_Count</th>\n",
              "      <td>144.0</td>\n",
              "      <td>280.298611</td>\n",
              "      <td>119.966317</td>\n",
              "      <td>104.0</td>\n",
              "      <td>180.0</td>\n",
              "      <td>265.5</td>\n",
              "      <td>360.5</td>\n",
              "      <td>622.0</td>\n",
              "    </tr>\n",
              "  </tbody>\n",
              "</table>\n",
              "</div>"
            ],
            "text/plain": [
              "                 count        mean         std  ...    50%    75%    max\n",
              "Passenger_Count  144.0  280.298611  119.966317  ...  265.5  360.5  622.0\n",
              "\n",
              "[1 rows x 8 columns]"
            ]
          },
          "metadata": {},
          "execution_count": 9
        }
      ]
    },
    {
      "cell_type": "code",
      "metadata": {
        "colab": {
          "base_uri": "https://localhost:8080/",
          "height": 297
        },
        "id": "cfLW1E3WXWrJ",
        "outputId": "c25a09c6-2c37-4b00-c8c1-9387c26383c1"
      },
      "source": [
        "df.plot()"
      ],
      "execution_count": 10,
      "outputs": [
        {
          "output_type": "execute_result",
          "data": {
            "text/plain": [
              "<matplotlib.axes._subplots.AxesSubplot at 0x7f97d555c210>"
            ]
          },
          "metadata": {},
          "execution_count": 10
        },
        {
          "output_type": "display_data",
          "data": {
            "image/png": "[encoded data removed]",
            "text/plain": [
              "<Figure size 432x288 with 1 Axes>"
            ]
          },
          "metadata": {
            "needs_background": "light"
          }
        }
      ]
    },
    {
      "cell_type": "markdown",
      "metadata": {
        "id": "HpS41rSyzH1m"
      },
      "source": [
        "Simple moving average = (t + (t-1) + (t-2) + ... + (t-n)) / n"
      ]
    },
    {
      "cell_type": "code",
      "metadata": {
        "id": "7992irYXhaew"
      },
      "source": [
        "df = df[\"1955\":\"1957\"][[\"Passenger_Count\"]]"
      ],
      "execution_count": 11,
      "outputs": []
    },
    {
      "cell_type": "code",
      "metadata": {
        "id": "UBvYPmh1E885",
        "colab": {
          "base_uri": "https://localhost:8080/"
        },
        "outputId": "738813bc-f810-4ad2-f4df-c3afee41796e"
      },
      "source": [
        "df['Passenger_Count'].rolling(window=3).mean()"
      ],
      "execution_count": 12,
      "outputs": [
        {
          "output_type": "execute_result",
          "data": {
            "text/plain": [
              "Date\n",
              "1955-01-01           NaN\n",
              "1955-02-01           NaN\n",
              "1955-03-01    247.333333\n",
              "1955-04-01    256.333333\n",
              "1955-05-01    268.666667\n",
              "1955-06-01    284.666667\n",
              "1955-07-01    316.333333\n",
              "1955-08-01    342.000000\n",
              "1955-09-01    341.000000\n",
              "1955-10-01    311.000000\n",
              "1955-11-01    274.333333\n",
              "1955-12-01    263.000000\n",
              "1956-01-01    266.333333\n",
              "1956-02-01    279.666667\n",
              "1956-03-01    292.666667\n",
              "1956-04-01    302.333333\n",
              "1956-05-01    316.000000\n",
              "1956-06-01    335.000000\n",
              "1956-07-01    368.333333\n",
              "1956-08-01    397.333333\n",
              "1956-09-01    391.000000\n",
              "1956-10-01    355.333333\n",
              "1956-11-01    310.666667\n",
              "1956-12-01    294.333333\n",
              "1957-01-01    297.333333\n",
              "1957-02-01    307.333333\n",
              "1957-03-01    324.000000\n",
              "1957-04-01    335.000000\n",
              "1957-05-01    353.000000\n",
              "1957-06-01    375.000000\n",
              "1957-07-01    414.000000\n",
              "1957-08-01    451.333333\n",
              "1957-09-01    445.333333\n",
              "1957-10-01    406.000000\n",
              "1957-11-01    352.000000\n",
              "1957-12-01    329.333333\n",
              "Name: Passenger_Count, dtype: float64"
            ]
          },
          "metadata": {},
          "execution_count": 12
        }
      ]
    },
    {
      "cell_type": "code",
      "metadata": {
        "id": "dz-eNupME86J"
      },
      "source": [
        "df['ma_rolling_3']=df['Passenger_Count'].rolling(window=3).mean().shift(1)"
      ],
      "execution_count": 13,
      "outputs": []
    },
    {
      "cell_type": "code",
      "metadata": {
        "id": "T-SphqTYE82u",
        "colab": {
          "base_uri": "https://localhost:8080/",
          "height": 1000
        },
        "outputId": "02f0c315-d48e-4e21-aa91-00d9d58f4b26"
      },
      "source": [
        "df"
      ],
      "execution_count": 14,
      "outputs": [
        {
          "output_type": "execute_result",
          "data": {
            "text/html": [
              "<div>\n",
              "<style scoped>\n",
              "    .dataframe tbody tr th:only-of-type {\n",
              "        vertical-align: middle;\n",
              "    }\n",
              "\n",
              "    .dataframe tbody tr th {\n",
              "        vertical-align: top;\n",
              "    }\n",
              "\n",
              "    .dataframe thead th {\n",
              "        text-align: right;\n",
              "    }\n",
              "</style>\n",
              "<table border=\"1\" class=\"dataframe\">\n",
              "  <thead>\n",
              "    <tr style=\"text-align: right;\">\n",
              "      <th></th>\n",
              "      <th>Passenger_Count</th>\n",
              "      <th>ma_rolling_3</th>\n",
              "    </tr>\n",
              "    <tr>\n",
              "      <th>Date</th>\n",
              "      <th></th>\n",
              "      <th></th>\n",
              "    </tr>\n",
              "  </thead>\n",
              "  <tbody>\n",
              "    <tr>\n",
              "      <th>1955-01-01</th>\n",
              "      <td>242</td>\n",
              "      <td>NaN</td>\n",
              "    </tr>\n",
              "    <tr>\n",
              "      <th>1955-02-01</th>\n",
              "      <td>233</td>\n",
              "      <td>NaN</td>\n",
              "    </tr>\n",
              "    <tr>\n",
              "      <th>1955-03-01</th>\n",
              "      <td>267</td>\n",
              "      <td>NaN</td>\n",
              "    </tr>\n",
              "    <tr>\n",
              "      <th>1955-04-01</th>\n",
              "      <td>269</td>\n",
              "      <td>247.333333</td>\n",
              "    </tr>\n",
              "    <tr>\n",
              "      <th>1955-05-01</th>\n",
              "      <td>270</td>\n",
              "      <td>256.333333</td>\n",
              "    </tr>\n",
              "    <tr>\n",
              "      <th>1955-06-01</th>\n",
              "      <td>315</td>\n",
              "      <td>268.666667</td>\n",
              "    </tr>\n",
              "    <tr>\n",
              "      <th>1955-07-01</th>\n",
              "      <td>364</td>\n",
              "      <td>284.666667</td>\n",
              "    </tr>\n",
              "    <tr>\n",
              "      <th>1955-08-01</th>\n",
              "      <td>347</td>\n",
              "      <td>316.333333</td>\n",
              "    </tr>\n",
              "    <tr>\n",
              "      <th>1955-09-01</th>\n",
              "      <td>312</td>\n",
              "      <td>342.000000</td>\n",
              "    </tr>\n",
              "    <tr>\n",
              "      <th>1955-10-01</th>\n",
              "      <td>274</td>\n",
              "      <td>341.000000</td>\n",
              "    </tr>\n",
              "    <tr>\n",
              "      <th>1955-11-01</th>\n",
              "      <td>237</td>\n",
              "      <td>311.000000</td>\n",
              "    </tr>\n",
              "    <tr>\n",
              "      <th>1955-12-01</th>\n",
              "      <td>278</td>\n",
              "      <td>274.333333</td>\n",
              "    </tr>\n",
              "    <tr>\n",
              "      <th>1956-01-01</th>\n",
              "      <td>284</td>\n",
              "      <td>263.000000</td>\n",
              "    </tr>\n",
              "    <tr>\n",
              "      <th>1956-02-01</th>\n",
              "      <td>277</td>\n",
              "      <td>266.333333</td>\n",
              "    </tr>\n",
              "    <tr>\n",
              "      <th>1956-03-01</th>\n",
              "      <td>317</td>\n",
              "      <td>279.666667</td>\n",
              "    </tr>\n",
              "    <tr>\n",
              "      <th>1956-04-01</th>\n",
              "      <td>313</td>\n",
              "      <td>292.666667</td>\n",
              "    </tr>\n",
              "    <tr>\n",
              "      <th>1956-05-01</th>\n",
              "      <td>318</td>\n",
              "      <td>302.333333</td>\n",
              "    </tr>\n",
              "    <tr>\n",
              "      <th>1956-06-01</th>\n",
              "      <td>374</td>\n",
              "      <td>316.000000</td>\n",
              "    </tr>\n",
              "    <tr>\n",
              "      <th>1956-07-01</th>\n",
              "      <td>413</td>\n",
              "      <td>335.000000</td>\n",
              "    </tr>\n",
              "    <tr>\n",
              "      <th>1956-08-01</th>\n",
              "      <td>405</td>\n",
              "      <td>368.333333</td>\n",
              "    </tr>\n",
              "    <tr>\n",
              "      <th>1956-09-01</th>\n",
              "      <td>355</td>\n",
              "      <td>397.333333</td>\n",
              "    </tr>\n",
              "    <tr>\n",
              "      <th>1956-10-01</th>\n",
              "      <td>306</td>\n",
              "      <td>391.000000</td>\n",
              "    </tr>\n",
              "    <tr>\n",
              "      <th>1956-11-01</th>\n",
              "      <td>271</td>\n",
              "      <td>355.333333</td>\n",
              "    </tr>\n",
              "    <tr>\n",
              "      <th>1956-12-01</th>\n",
              "      <td>306</td>\n",
              "      <td>310.666667</td>\n",
              "    </tr>\n",
              "    <tr>\n",
              "      <th>1957-01-01</th>\n",
              "      <td>315</td>\n",
              "      <td>294.333333</td>\n",
              "    </tr>\n",
              "    <tr>\n",
              "      <th>1957-02-01</th>\n",
              "      <td>301</td>\n",
              "      <td>297.333333</td>\n",
              "    </tr>\n",
              "    <tr>\n",
              "      <th>1957-03-01</th>\n",
              "      <td>356</td>\n",
              "      <td>307.333333</td>\n",
              "    </tr>\n",
              "    <tr>\n",
              "      <th>1957-04-01</th>\n",
              "      <td>348</td>\n",
              "      <td>324.000000</td>\n",
              "    </tr>\n",
              "    <tr>\n",
              "      <th>1957-05-01</th>\n",
              "      <td>355</td>\n",
              "      <td>335.000000</td>\n",
              "    </tr>\n",
              "    <tr>\n",
              "      <th>1957-06-01</th>\n",
              "      <td>422</td>\n",
              "      <td>353.000000</td>\n",
              "    </tr>\n",
              "    <tr>\n",
              "      <th>1957-07-01</th>\n",
              "      <td>465</td>\n",
              "      <td>375.000000</td>\n",
              "    </tr>\n",
              "    <tr>\n",
              "      <th>1957-08-01</th>\n",
              "      <td>467</td>\n",
              "      <td>414.000000</td>\n",
              "    </tr>\n",
              "    <tr>\n",
              "      <th>1957-09-01</th>\n",
              "      <td>404</td>\n",
              "      <td>451.333333</td>\n",
              "    </tr>\n",
              "    <tr>\n",
              "      <th>1957-10-01</th>\n",
              "      <td>347</td>\n",
              "      <td>445.333333</td>\n",
              "    </tr>\n",
              "    <tr>\n",
              "      <th>1957-11-01</th>\n",
              "      <td>305</td>\n",
              "      <td>406.000000</td>\n",
              "    </tr>\n",
              "    <tr>\n",
              "      <th>1957-12-01</th>\n",
              "      <td>336</td>\n",
              "      <td>352.000000</td>\n",
              "    </tr>\n",
              "  </tbody>\n",
              "</table>\n",
              "</div>"
            ],
            "text/plain": [
              "            Passenger_Count  ma_rolling_3\n",
              "Date                                     \n",
              "1955-01-01              242           NaN\n",
              "1955-02-01              233           NaN\n",
              "1955-03-01              267           NaN\n",
              "1955-04-01              269    247.333333\n",
              "1955-05-01              270    256.333333\n",
              "1955-06-01              315    268.666667\n",
              "1955-07-01              364    284.666667\n",
              "1955-08-01              347    316.333333\n",
              "1955-09-01              312    342.000000\n",
              "1955-10-01              274    341.000000\n",
              "1955-11-01              237    311.000000\n",
              "1955-12-01              278    274.333333\n",
              "1956-01-01              284    263.000000\n",
              "1956-02-01              277    266.333333\n",
              "1956-03-01              317    279.666667\n",
              "1956-04-01              313    292.666667\n",
              "1956-05-01              318    302.333333\n",
              "1956-06-01              374    316.000000\n",
              "1956-07-01              413    335.000000\n",
              "1956-08-01              405    368.333333\n",
              "1956-09-01              355    397.333333\n",
              "1956-10-01              306    391.000000\n",
              "1956-11-01              271    355.333333\n",
              "1956-12-01              306    310.666667\n",
              "1957-01-01              315    294.333333\n",
              "1957-02-01              301    297.333333\n",
              "1957-03-01              356    307.333333\n",
              "1957-04-01              348    324.000000\n",
              "1957-05-01              355    335.000000\n",
              "1957-06-01              422    353.000000\n",
              "1957-07-01              465    375.000000\n",
              "1957-08-01              467    414.000000\n",
              "1957-09-01              404    451.333333\n",
              "1957-10-01              347    445.333333\n",
              "1957-11-01              305    406.000000\n",
              "1957-12-01              336    352.000000"
            ]
          },
          "metadata": {},
          "execution_count": 14
        }
      ]
    },
    {
      "cell_type": "code",
      "metadata": {
        "id": "paiqHYifM7bO",
        "colab": {
          "base_uri": "https://localhost:8080/",
          "height": 291
        },
        "outputId": "2b61992c-d021-4191-bd1b-8da34a950028"
      },
      "source": [
        "df.plot();"
      ],
      "execution_count": 15,
      "outputs": [
        {
          "output_type": "display_data",
          "data": {
            "image/png": "[encoded data removed]",
            "text/plain": [
              "<Figure size 432x288 with 1 Axes>"
            ]
          },
          "metadata": {
            "needs_background": "light"
          }
        }
      ]
    },
    {
      "cell_type": "markdown",
      "metadata": {
        "id": "bxzVBI463G-O"
      },
      "source": [
        "Weighted moving average = (t * weighting factor) + ((t-1) * weighting factor-1) + ((t-n) * weighting factor-n)/n "
      ]
    },
    {
      "cell_type": "code",
      "metadata": {
        "id": "3h7wFgM5E8qE"
      },
      "source": [
        "def weighted_moving_average(weights): \n",
        "  def calc(x):\n",
        "    return (weights*x).mean()\n",
        "  return calc"
      ],
      "execution_count": 16,
      "outputs": []
    },
    {
      "cell_type": "code",
      "metadata": {
        "id": "7Q1-fNJYE8gz",
        "colab": {
          "base_uri": "https://localhost:8080/"
        },
        "outputId": "f1b55c4a-df35-4f6f-9eff-9856c87d9d7d"
      },
      "source": [
        "df['Passenger_Count'].rolling(window=3).apply(weighted_moving_average(np.array([0.5,1,1.5])))"
      ],
      "execution_count": 17,
      "outputs": [
        {
          "output_type": "execute_result",
          "data": {
            "text/plain": [
              "Date\n",
              "1955-01-01           NaN\n",
              "1955-02-01           NaN\n",
              "1955-03-01    251.500000\n",
              "1955-04-01    262.333333\n",
              "1955-05-01    269.166667\n",
              "1955-06-01    292.333333\n",
              "1955-07-01    332.000000\n",
              "1955-08-01    347.333333\n",
              "1955-09-01    332.333333\n",
              "1955-10-01    298.833333\n",
              "1955-11-01    261.833333\n",
              "1955-12-01    263.666667\n",
              "1956-01-01    274.166667\n",
              "1956-02-01    279.500000\n",
              "1956-03-01    298.166667\n",
              "1956-04-01    308.333333\n",
              "1956-05-01    316.166667\n",
              "1956-06-01    345.166667\n",
              "1956-07-01    384.166667\n",
              "1956-08-01    402.500000\n",
              "1956-09-01    381.333333\n",
              "1956-10-01    338.833333\n",
              "1956-11-01    296.666667\n",
              "1956-12-01    294.333333\n",
              "1957-01-01    304.666667\n",
              "1957-02-01    306.500000\n",
              "1957-03-01    330.833333\n",
              "1957-04-01    342.833333\n",
              "1957-05-01    352.833333\n",
              "1957-06-01    387.333333\n",
              "1957-07-01    432.333333\n",
              "1957-08-01    458.833333\n",
              "1957-09-01    435.166667\n",
              "1957-10-01    386.000000\n",
              "1957-11-01    335.500000\n",
              "1957-12-01    327.500000\n",
              "Name: Passenger_Count, dtype: float64"
            ]
          },
          "metadata": {},
          "execution_count": 17
        }
      ]
    },
    {
      "cell_type": "code",
      "metadata": {
        "id": "U5ha0--uJ51C"
      },
      "source": [
        "df['wma_rolling_3']=df['Passenger_Count'].rolling(window=3).apply(weighted_moving_average(np.array([0.5,1,1.5]))).shift(1)"
      ],
      "execution_count": 18,
      "outputs": []
    },
    {
      "cell_type": "code",
      "metadata": {
        "id": "Nr17yUpGaGOr",
        "colab": {
          "base_uri": "https://localhost:8080/",
          "height": 1000
        },
        "outputId": "76d437ec-b6c7-4735-c531-022aff4c5ae5"
      },
      "source": [
        "df"
      ],
      "execution_count": 19,
      "outputs": [
        {
          "output_type": "execute_result",
          "data": {
            "text/html": [
              "<div>\n",
              "<style scoped>\n",
              "    .dataframe tbody tr th:only-of-type {\n",
              "        vertical-align: middle;\n",
              "    }\n",
              "\n",
              "    .dataframe tbody tr th {\n",
              "        vertical-align: top;\n",
              "    }\n",
              "\n",
              "    .dataframe thead th {\n",
              "        text-align: right;\n",
              "    }\n",
              "</style>\n",
              "<table border=\"1\" class=\"dataframe\">\n",
              "  <thead>\n",
              "    <tr style=\"text-align: right;\">\n",
              "      <th></th>\n",
              "      <th>Passenger_Count</th>\n",
              "      <th>ma_rolling_3</th>\n",
              "      <th>wma_rolling_3</th>\n",
              "    </tr>\n",
              "    <tr>\n",
              "      <th>Date</th>\n",
              "      <th></th>\n",
              "      <th></th>\n",
              "      <th></th>\n",
              "    </tr>\n",
              "  </thead>\n",
              "  <tbody>\n",
              "    <tr>\n",
              "      <th>1955-01-01</th>\n",
              "      <td>242</td>\n",
              "      <td>NaN</td>\n",
              "      <td>NaN</td>\n",
              "    </tr>\n",
              "    <tr>\n",
              "      <th>1955-02-01</th>\n",
              "      <td>233</td>\n",
              "      <td>NaN</td>\n",
              "      <td>NaN</td>\n",
              "    </tr>\n",
              "    <tr>\n",
              "      <th>1955-03-01</th>\n",
              "      <td>267</td>\n",
              "      <td>NaN</td>\n",
              "      <td>NaN</td>\n",
              "    </tr>\n",
              "    <tr>\n",
              "      <th>1955-04-01</th>\n",
              "      <td>269</td>\n",
              "      <td>247.333333</td>\n",
              "      <td>251.500000</td>\n",
              "    </tr>\n",
              "    <tr>\n",
              "      <th>1955-05-01</th>\n",
              "      <td>270</td>\n",
              "      <td>256.333333</td>\n",
              "      <td>262.333333</td>\n",
              "    </tr>\n",
              "    <tr>\n",
              "      <th>1955-06-01</th>\n",
              "      <td>315</td>\n",
              "      <td>268.666667</td>\n",
              "      <td>269.166667</td>\n",
              "    </tr>\n",
              "    <tr>\n",
              "      <th>1955-07-01</th>\n",
              "      <td>364</td>\n",
              "      <td>284.666667</td>\n",
              "      <td>292.333333</td>\n",
              "    </tr>\n",
              "    <tr>\n",
              "      <th>1955-08-01</th>\n",
              "      <td>347</td>\n",
              "      <td>316.333333</td>\n",
              "      <td>332.000000</td>\n",
              "    </tr>\n",
              "    <tr>\n",
              "      <th>1955-09-01</th>\n",
              "      <td>312</td>\n",
              "      <td>342.000000</td>\n",
              "      <td>347.333333</td>\n",
              "    </tr>\n",
              "    <tr>\n",
              "      <th>1955-10-01</th>\n",
              "      <td>274</td>\n",
              "      <td>341.000000</td>\n",
              "      <td>332.333333</td>\n",
              "    </tr>\n",
              "    <tr>\n",
              "      <th>1955-11-01</th>\n",
              "      <td>237</td>\n",
              "      <td>311.000000</td>\n",
              "      <td>298.833333</td>\n",
              "    </tr>\n",
              "    <tr>\n",
              "      <th>1955-12-01</th>\n",
              "      <td>278</td>\n",
              "      <td>274.333333</td>\n",
              "      <td>261.833333</td>\n",
              "    </tr>\n",
              "    <tr>\n",
              "      <th>1956-01-01</th>\n",
              "      <td>284</td>\n",
              "      <td>263.000000</td>\n",
              "      <td>263.666667</td>\n",
              "    </tr>\n",
              "    <tr>\n",
              "      <th>1956-02-01</th>\n",
              "      <td>277</td>\n",
              "      <td>266.333333</td>\n",
              "      <td>274.166667</td>\n",
              "    </tr>\n",
              "    <tr>\n",
              "      <th>1956-03-01</th>\n",
              "      <td>317</td>\n",
              "      <td>279.666667</td>\n",
              "      <td>279.500000</td>\n",
              "    </tr>\n",
              "    <tr>\n",
              "      <th>1956-04-01</th>\n",
              "      <td>313</td>\n",
              "      <td>292.666667</td>\n",
              "      <td>298.166667</td>\n",
              "    </tr>\n",
              "    <tr>\n",
              "      <th>1956-05-01</th>\n",
              "      <td>318</td>\n",
              "      <td>302.333333</td>\n",
              "      <td>308.333333</td>\n",
              "    </tr>\n",
              "    <tr>\n",
              "      <th>1956-06-01</th>\n",
              "      <td>374</td>\n",
              "      <td>316.000000</td>\n",
              "      <td>316.166667</td>\n",
              "    </tr>\n",
              "    <tr>\n",
              "      <th>1956-07-01</th>\n",
              "      <td>413</td>\n",
              "      <td>335.000000</td>\n",
              "      <td>345.166667</td>\n",
              "    </tr>\n",
              "    <tr>\n",
              "      <th>1956-08-01</th>\n",
              "      <td>405</td>\n",
              "      <td>368.333333</td>\n",
              "      <td>384.166667</td>\n",
              "    </tr>\n",
              "    <tr>\n",
              "      <th>1956-09-01</th>\n",
              "      <td>355</td>\n",
              "      <td>397.333333</td>\n",
              "      <td>402.500000</td>\n",
              "    </tr>\n",
              "    <tr>\n",
              "      <th>1956-10-01</th>\n",
              "      <td>306</td>\n",
              "      <td>391.000000</td>\n",
              "      <td>381.333333</td>\n",
              "    </tr>\n",
              "    <tr>\n",
              "      <th>1956-11-01</th>\n",
              "      <td>271</td>\n",
              "      <td>355.333333</td>\n",
              "      <td>338.833333</td>\n",
              "    </tr>\n",
              "    <tr>\n",
              "      <th>1956-12-01</th>\n",
              "      <td>306</td>\n",
              "      <td>310.666667</td>\n",
              "      <td>296.666667</td>\n",
              "    </tr>\n",
              "    <tr>\n",
              "      <th>1957-01-01</th>\n",
              "      <td>315</td>\n",
              "      <td>294.333333</td>\n",
              "      <td>294.333333</td>\n",
              "    </tr>\n",
              "    <tr>\n",
              "      <th>1957-02-01</th>\n",
              "      <td>301</td>\n",
              "      <td>297.333333</td>\n",
              "      <td>304.666667</td>\n",
              "    </tr>\n",
              "    <tr>\n",
              "      <th>1957-03-01</th>\n",
              "      <td>356</td>\n",
              "      <td>307.333333</td>\n",
              "      <td>306.500000</td>\n",
              "    </tr>\n",
              "    <tr>\n",
              "      <th>1957-04-01</th>\n",
              "      <td>348</td>\n",
              "      <td>324.000000</td>\n",
              "      <td>330.833333</td>\n",
              "    </tr>\n",
              "    <tr>\n",
              "      <th>1957-05-01</th>\n",
              "      <td>355</td>\n",
              "      <td>335.000000</td>\n",
              "      <td>342.833333</td>\n",
              "    </tr>\n",
              "    <tr>\n",
              "      <th>1957-06-01</th>\n",
              "      <td>422</td>\n",
              "      <td>353.000000</td>\n",
              "      <td>352.833333</td>\n",
              "    </tr>\n",
              "    <tr>\n",
              "      <th>1957-07-01</th>\n",
              "      <td>465</td>\n",
              "      <td>375.000000</td>\n",
              "      <td>387.333333</td>\n",
              "    </tr>\n",
              "    <tr>\n",
              "      <th>1957-08-01</th>\n",
              "      <td>467</td>\n",
              "      <td>414.000000</td>\n",
              "      <td>432.333333</td>\n",
              "    </tr>\n",
              "    <tr>\n",
              "      <th>1957-09-01</th>\n",
              "      <td>404</td>\n",
              "      <td>451.333333</td>\n",
              "      <td>458.833333</td>\n",
              "    </tr>\n",
              "    <tr>\n",
              "      <th>1957-10-01</th>\n",
              "      <td>347</td>\n",
              "      <td>445.333333</td>\n",
              "      <td>435.166667</td>\n",
              "    </tr>\n",
              "    <tr>\n",
              "      <th>1957-11-01</th>\n",
              "      <td>305</td>\n",
              "      <td>406.000000</td>\n",
              "      <td>386.000000</td>\n",
              "    </tr>\n",
              "    <tr>\n",
              "      <th>1957-12-01</th>\n",
              "      <td>336</td>\n",
              "      <td>352.000000</td>\n",
              "      <td>335.500000</td>\n",
              "    </tr>\n",
              "  </tbody>\n",
              "</table>\n",
              "</div>"
            ],
            "text/plain": [
              "            Passenger_Count  ma_rolling_3  wma_rolling_3\n",
              "Date                                                    \n",
              "1955-01-01              242           NaN            NaN\n",
              "1955-02-01              233           NaN            NaN\n",
              "1955-03-01              267           NaN            NaN\n",
              "1955-04-01              269    247.333333     251.500000\n",
              "1955-05-01              270    256.333333     262.333333\n",
              "1955-06-01              315    268.666667     269.166667\n",
              "1955-07-01              364    284.666667     292.333333\n",
              "1955-08-01              347    316.333333     332.000000\n",
              "1955-09-01              312    342.000000     347.333333\n",
              "1955-10-01              274    341.000000     332.333333\n",
              "1955-11-01              237    311.000000     298.833333\n",
              "1955-12-01              278    274.333333     261.833333\n",
              "1956-01-01              284    263.000000     263.666667\n",
              "1956-02-01              277    266.333333     274.166667\n",
              "1956-03-01              317    279.666667     279.500000\n",
              "1956-04-01              313    292.666667     298.166667\n",
              "1956-05-01              318    302.333333     308.333333\n",
              "1956-06-01              374    316.000000     316.166667\n",
              "1956-07-01              413    335.000000     345.166667\n",
              "1956-08-01              405    368.333333     384.166667\n",
              "1956-09-01              355    397.333333     402.500000\n",
              "1956-10-01              306    391.000000     381.333333\n",
              "1956-11-01              271    355.333333     338.833333\n",
              "1956-12-01              306    310.666667     296.666667\n",
              "1957-01-01              315    294.333333     294.333333\n",
              "1957-02-01              301    297.333333     304.666667\n",
              "1957-03-01              356    307.333333     306.500000\n",
              "1957-04-01              348    324.000000     330.833333\n",
              "1957-05-01              355    335.000000     342.833333\n",
              "1957-06-01              422    353.000000     352.833333\n",
              "1957-07-01              465    375.000000     387.333333\n",
              "1957-08-01              467    414.000000     432.333333\n",
              "1957-09-01              404    451.333333     458.833333\n",
              "1957-10-01              347    445.333333     435.166667\n",
              "1957-11-01              305    406.000000     386.000000\n",
              "1957-12-01              336    352.000000     335.500000"
            ]
          },
          "metadata": {},
          "execution_count": 19
        }
      ]
    },
    {
      "cell_type": "code",
      "metadata": {
        "id": "DBlVXvBQaGLU",
        "colab": {
          "base_uri": "https://localhost:8080/",
          "height": 309
        },
        "outputId": "348ea85a-42d1-462b-b463-1c69cf2839d0"
      },
      "source": [
        "df.plot()"
      ],
      "execution_count": 20,
      "outputs": [
        {
          "output_type": "execute_result",
          "data": {
            "text/plain": [
              "<matplotlib.axes._subplots.AxesSubplot at 0x7f97ce75f410>"
            ]
          },
          "metadata": {},
          "execution_count": 20
        },
        {
          "output_type": "display_data",
          "data": {
            "image/png": "[encoded data removed]",
            "text/plain": [
              "<Figure size 432x288 with 1 Axes>"
            ]
          },
          "metadata": {
            "needs_background": "light"
          }
        }
      ]
    },
    {
      "cell_type": "markdown",
      "metadata": {
        "id": "b4hDrXEkgwDT"
      },
      "source": [
        "Looking at the above visualization uncovers a couple of problems with simple moving averages:\n",
        "\n",
        "+ **Lag** - moving average time series always lags from the original one. Look at the peaks to verify that claim.\n",
        "+ **Noise** - too small sliding window size won’t remove all noise from the original data.\n",
        "+ **Averaging issue** - averaged data will never capture the low and high points of the original series due to, well, averaging.\n",
        "+ **Weighting** - identical weights are assigned to all data points. This can be an issue as frequently the most recent values have more impact on the future."
      ]
    },
    {
      "cell_type": "markdown",
      "metadata": {
        "id": "OjHcOxANyWiM"
      },
      "source": [
        "Exponential moving average = (Close - previous EMA) * (2/(span+1)) + previous EMA\n"
      ]
    },
    {
      "cell_type": "code",
      "metadata": {
        "id": "q99o4C3Cgmwu",
        "colab": {
          "base_uri": "https://localhost:8080/"
        },
        "outputId": "95ef1711-fd2a-4faa-bd98-b5797157d730"
      },
      "source": [
        "df['Passenger_Count'].ewm(span=3, adjust=False, min_periods=0).mean()"
      ],
      "execution_count": 21,
      "outputs": [
        {
          "output_type": "execute_result",
          "data": {
            "text/plain": [
              "Date\n",
              "1955-01-01    242.000000\n",
              "1955-02-01    237.500000\n",
              "1955-03-01    252.250000\n",
              "1955-04-01    260.625000\n",
              "1955-05-01    265.312500\n",
              "1955-06-01    290.156250\n",
              "1955-07-01    327.078125\n",
              "1955-08-01    337.039062\n",
              "1955-09-01    324.519531\n",
              "1955-10-01    299.259766\n",
              "1955-11-01    268.129883\n",
              "1955-12-01    273.064941\n",
              "1956-01-01    278.532471\n",
              "1956-02-01    277.766235\n",
              "1956-03-01    297.383118\n",
              "1956-04-01    305.191559\n",
              "1956-05-01    311.595779\n",
              "1956-06-01    342.797890\n",
              "1956-07-01    377.898945\n",
              "1956-08-01    391.449472\n",
              "1956-09-01    373.224736\n",
              "1956-10-01    339.612368\n",
              "1956-11-01    305.306184\n",
              "1956-12-01    305.653092\n",
              "1957-01-01    310.326546\n",
              "1957-02-01    305.663273\n",
              "1957-03-01    330.831637\n",
              "1957-04-01    339.415818\n",
              "1957-05-01    347.207909\n",
              "1957-06-01    384.603955\n",
              "1957-07-01    424.801977\n",
              "1957-08-01    445.900989\n",
              "1957-09-01    424.950494\n",
              "1957-10-01    385.975247\n",
              "1957-11-01    345.487624\n",
              "1957-12-01    340.743812\n",
              "Name: Passenger_Count, dtype: float64"
            ]
          },
          "metadata": {},
          "execution_count": 21
        }
      ]
    },
    {
      "cell_type": "code",
      "metadata": {
        "id": "hCDd1DWeguGC"
      },
      "source": [
        "df['ewm_window_3']=df['Passenger_Count'].ewm(span=3, adjust=False, min_periods=0).mean().shift(1)"
      ],
      "execution_count": 22,
      "outputs": []
    },
    {
      "cell_type": "code",
      "metadata": {
        "id": "kG6ZlZ4UguC7",
        "colab": {
          "base_uri": "https://localhost:8080/",
          "height": 1000
        },
        "outputId": "ea01a94e-9c10-46c0-bec3-38d4b79fcdde"
      },
      "source": [
        "df"
      ],
      "execution_count": 23,
      "outputs": [
        {
          "output_type": "execute_result",
          "data": {
            "text/html": [
              "<div>\n",
              "<style scoped>\n",
              "    .dataframe tbody tr th:only-of-type {\n",
              "        vertical-align: middle;\n",
              "    }\n",
              "\n",
              "    .dataframe tbody tr th {\n",
              "        vertical-align: top;\n",
              "    }\n",
              "\n",
              "    .dataframe thead th {\n",
              "        text-align: right;\n",
              "    }\n",
              "</style>\n",
              "<table border=\"1\" class=\"dataframe\">\n",
              "  <thead>\n",
              "    <tr style=\"text-align: right;\">\n",
              "      <th></th>\n",
              "      <th>Passenger_Count</th>\n",
              "      <th>ma_rolling_3</th>\n",
              "      <th>wma_rolling_3</th>\n",
              "      <th>ewm_window_3</th>\n",
              "    </tr>\n",
              "    <tr>\n",
              "      <th>Date</th>\n",
              "      <th></th>\n",
              "      <th></th>\n",
              "      <th></th>\n",
              "      <th></th>\n",
              "    </tr>\n",
              "  </thead>\n",
              "  <tbody>\n",
              "    <tr>\n",
              "      <th>1955-01-01</th>\n",
              "      <td>242</td>\n",
              "      <td>NaN</td>\n",
              "      <td>NaN</td>\n",
              "      <td>NaN</td>\n",
              "    </tr>\n",
              "    <tr>\n",
              "      <th>1955-02-01</th>\n",
              "      <td>233</td>\n",
              "      <td>NaN</td>\n",
              "      <td>NaN</td>\n",
              "      <td>242.000000</td>\n",
              "    </tr>\n",
              "    <tr>\n",
              "      <th>1955-03-01</th>\n",
              "      <td>267</td>\n",
              "      <td>NaN</td>\n",
              "      <td>NaN</td>\n",
              "      <td>237.500000</td>\n",
              "    </tr>\n",
              "    <tr>\n",
              "      <th>1955-04-01</th>\n",
              "      <td>269</td>\n",
              "      <td>247.333333</td>\n",
              "      <td>251.500000</td>\n",
              "      <td>252.250000</td>\n",
              "    </tr>\n",
              "    <tr>\n",
              "      <th>1955-05-01</th>\n",
              "      <td>270</td>\n",
              "      <td>256.333333</td>\n",
              "      <td>262.333333</td>\n",
              "      <td>260.625000</td>\n",
              "    </tr>\n",
              "    <tr>\n",
              "      <th>1955-06-01</th>\n",
              "      <td>315</td>\n",
              "      <td>268.666667</td>\n",
              "      <td>269.166667</td>\n",
              "      <td>265.312500</td>\n",
              "    </tr>\n",
              "    <tr>\n",
              "      <th>1955-07-01</th>\n",
              "      <td>364</td>\n",
              "      <td>284.666667</td>\n",
              "      <td>292.333333</td>\n",
              "      <td>290.156250</td>\n",
              "    </tr>\n",
              "    <tr>\n",
              "      <th>1955-08-01</th>\n",
              "      <td>347</td>\n",
              "      <td>316.333333</td>\n",
              "      <td>332.000000</td>\n",
              "      <td>327.078125</td>\n",
              "    </tr>\n",
              "    <tr>\n",
              "      <th>1955-09-01</th>\n",
              "      <td>312</td>\n",
              "      <td>342.000000</td>\n",
              "      <td>347.333333</td>\n",
              "      <td>337.039062</td>\n",
              "    </tr>\n",
              "    <tr>\n",
              "      <th>1955-10-01</th>\n",
              "      <td>274</td>\n",
              "      <td>341.000000</td>\n",
              "      <td>332.333333</td>\n",
              "      <td>324.519531</td>\n",
              "    </tr>\n",
              "    <tr>\n",
              "      <th>1955-11-01</th>\n",
              "      <td>237</td>\n",
              "      <td>311.000000</td>\n",
              "      <td>298.833333</td>\n",
              "      <td>299.259766</td>\n",
              "    </tr>\n",
              "    <tr>\n",
              "      <th>1955-12-01</th>\n",
              "      <td>278</td>\n",
              "      <td>274.333333</td>\n",
              "      <td>261.833333</td>\n",
              "      <td>268.129883</td>\n",
              "    </tr>\n",
              "    <tr>\n",
              "      <th>1956-01-01</th>\n",
              "      <td>284</td>\n",
              "      <td>263.000000</td>\n",
              "      <td>263.666667</td>\n",
              "      <td>273.064941</td>\n",
              "    </tr>\n",
              "    <tr>\n",
              "      <th>1956-02-01</th>\n",
              "      <td>277</td>\n",
              "      <td>266.333333</td>\n",
              "      <td>274.166667</td>\n",
              "      <td>278.532471</td>\n",
              "    </tr>\n",
              "    <tr>\n",
              "      <th>1956-03-01</th>\n",
              "      <td>317</td>\n",
              "      <td>279.666667</td>\n",
              "      <td>279.500000</td>\n",
              "      <td>277.766235</td>\n",
              "    </tr>\n",
              "    <tr>\n",
              "      <th>1956-04-01</th>\n",
              "      <td>313</td>\n",
              "      <td>292.666667</td>\n",
              "      <td>298.166667</td>\n",
              "      <td>297.383118</td>\n",
              "    </tr>\n",
              "    <tr>\n",
              "      <th>1956-05-01</th>\n",
              "      <td>318</td>\n",
              "      <td>302.333333</td>\n",
              "      <td>308.333333</td>\n",
              "      <td>305.191559</td>\n",
              "    </tr>\n",
              "    <tr>\n",
              "      <th>1956-06-01</th>\n",
              "      <td>374</td>\n",
              "      <td>316.000000</td>\n",
              "      <td>316.166667</td>\n",
              "      <td>311.595779</td>\n",
              "    </tr>\n",
              "    <tr>\n",
              "      <th>1956-07-01</th>\n",
              "      <td>413</td>\n",
              "      <td>335.000000</td>\n",
              "      <td>345.166667</td>\n",
              "      <td>342.797890</td>\n",
              "    </tr>\n",
              "    <tr>\n",
              "      <th>1956-08-01</th>\n",
              "      <td>405</td>\n",
              "      <td>368.333333</td>\n",
              "      <td>384.166667</td>\n",
              "      <td>377.898945</td>\n",
              "    </tr>\n",
              "    <tr>\n",
              "      <th>1956-09-01</th>\n",
              "      <td>355</td>\n",
              "      <td>397.333333</td>\n",
              "      <td>402.500000</td>\n",
              "      <td>391.449472</td>\n",
              "    </tr>\n",
              "    <tr>\n",
              "      <th>1956-10-01</th>\n",
              "      <td>306</td>\n",
              "      <td>391.000000</td>\n",
              "      <td>381.333333</td>\n",
              "      <td>373.224736</td>\n",
              "    </tr>\n",
              "    <tr>\n",
              "      <th>1956-11-01</th>\n",
              "      <td>271</td>\n",
              "      <td>355.333333</td>\n",
              "      <td>338.833333</td>\n",
              "      <td>339.612368</td>\n",
              "    </tr>\n",
              "    <tr>\n",
              "      <th>1956-12-01</th>\n",
              "      <td>306</td>\n",
              "      <td>310.666667</td>\n",
              "      <td>296.666667</td>\n",
              "      <td>305.306184</td>\n",
              "    </tr>\n",
              "    <tr>\n",
              "      <th>1957-01-01</th>\n",
              "      <td>315</td>\n",
              "      <td>294.333333</td>\n",
              "      <td>294.333333</td>\n",
              "      <td>305.653092</td>\n",
              "    </tr>\n",
              "    <tr>\n",
              "      <th>1957-02-01</th>\n",
              "      <td>301</td>\n",
              "      <td>297.333333</td>\n",
              "      <td>304.666667</td>\n",
              "      <td>310.326546</td>\n",
              "    </tr>\n",
              "    <tr>\n",
              "      <th>1957-03-01</th>\n",
              "      <td>356</td>\n",
              "      <td>307.333333</td>\n",
              "      <td>306.500000</td>\n",
              "      <td>305.663273</td>\n",
              "    </tr>\n",
              "    <tr>\n",
              "      <th>1957-04-01</th>\n",
              "      <td>348</td>\n",
              "      <td>324.000000</td>\n",
              "      <td>330.833333</td>\n",
              "      <td>330.831637</td>\n",
              "    </tr>\n",
              "    <tr>\n",
              "      <th>1957-05-01</th>\n",
              "      <td>355</td>\n",
              "      <td>335.000000</td>\n",
              "      <td>342.833333</td>\n",
              "      <td>339.415818</td>\n",
              "    </tr>\n",
              "    <tr>\n",
              "      <th>1957-06-01</th>\n",
              "      <td>422</td>\n",
              "      <td>353.000000</td>\n",
              "      <td>352.833333</td>\n",
              "      <td>347.207909</td>\n",
              "    </tr>\n",
              "    <tr>\n",
              "      <th>1957-07-01</th>\n",
              "      <td>465</td>\n",
              "      <td>375.000000</td>\n",
              "      <td>387.333333</td>\n",
              "      <td>384.603955</td>\n",
              "    </tr>\n",
              "    <tr>\n",
              "      <th>1957-08-01</th>\n",
              "      <td>467</td>\n",
              "      <td>414.000000</td>\n",
              "      <td>432.333333</td>\n",
              "      <td>424.801977</td>\n",
              "    </tr>\n",
              "    <tr>\n",
              "      <th>1957-09-01</th>\n",
              "      <td>404</td>\n",
              "      <td>451.333333</td>\n",
              "      <td>458.833333</td>\n",
              "      <td>445.900989</td>\n",
              "    </tr>\n",
              "    <tr>\n",
              "      <th>1957-10-01</th>\n",
              "      <td>347</td>\n",
              "      <td>445.333333</td>\n",
              "      <td>435.166667</td>\n",
              "      <td>424.950494</td>\n",
              "    </tr>\n",
              "    <tr>\n",
              "      <th>1957-11-01</th>\n",
              "      <td>305</td>\n",
              "      <td>406.000000</td>\n",
              "      <td>386.000000</td>\n",
              "      <td>385.975247</td>\n",
              "    </tr>\n",
              "    <tr>\n",
              "      <th>1957-12-01</th>\n",
              "      <td>336</td>\n",
              "      <td>352.000000</td>\n",
              "      <td>335.500000</td>\n",
              "      <td>345.487624</td>\n",
              "    </tr>\n",
              "  </tbody>\n",
              "</table>\n",
              "</div>"
            ],
            "text/plain": [
              "            Passenger_Count  ma_rolling_3  wma_rolling_3  ewm_window_3\n",
              "Date                                                                  \n",
              "1955-01-01              242           NaN            NaN           NaN\n",
              "1955-02-01              233           NaN            NaN    242.000000\n",
              "1955-03-01              267           NaN            NaN    237.500000\n",
              "1955-04-01              269    247.333333     251.500000    252.250000\n",
              "1955-05-01              270    256.333333     262.333333    260.625000\n",
              "1955-06-01              315    268.666667     269.166667    265.312500\n",
              "1955-07-01              364    284.666667     292.333333    290.156250\n",
              "1955-08-01              347    316.333333     332.000000    327.078125\n",
              "1955-09-01              312    342.000000     347.333333    337.039062\n",
              "1955-10-01              274    341.000000     332.333333    324.519531\n",
              "1955-11-01              237    311.000000     298.833333    299.259766\n",
              "1955-12-01              278    274.333333     261.833333    268.129883\n",
              "1956-01-01              284    263.000000     263.666667    273.064941\n",
              "1956-02-01              277    266.333333     274.166667    278.532471\n",
              "1956-03-01              317    279.666667     279.500000    277.766235\n",
              "1956-04-01              313    292.666667     298.166667    297.383118\n",
              "1956-05-01              318    302.333333     308.333333    305.191559\n",
              "1956-06-01              374    316.000000     316.166667    311.595779\n",
              "1956-07-01              413    335.000000     345.166667    342.797890\n",
              "1956-08-01              405    368.333333     384.166667    377.898945\n",
              "1956-09-01              355    397.333333     402.500000    391.449472\n",
              "1956-10-01              306    391.000000     381.333333    373.224736\n",
              "1956-11-01              271    355.333333     338.833333    339.612368\n",
              "1956-12-01              306    310.666667     296.666667    305.306184\n",
              "1957-01-01              315    294.333333     294.333333    305.653092\n",
              "1957-02-01              301    297.333333     304.666667    310.326546\n",
              "1957-03-01              356    307.333333     306.500000    305.663273\n",
              "1957-04-01              348    324.000000     330.833333    330.831637\n",
              "1957-05-01              355    335.000000     342.833333    339.415818\n",
              "1957-06-01              422    353.000000     352.833333    347.207909\n",
              "1957-07-01              465    375.000000     387.333333    384.603955\n",
              "1957-08-01              467    414.000000     432.333333    424.801977\n",
              "1957-09-01              404    451.333333     458.833333    445.900989\n",
              "1957-10-01              347    445.333333     435.166667    424.950494\n",
              "1957-11-01              305    406.000000     386.000000    385.975247\n",
              "1957-12-01              336    352.000000     335.500000    345.487624"
            ]
          },
          "metadata": {},
          "execution_count": 23
        }
      ]
    },
    {
      "cell_type": "code",
      "metadata": {
        "id": "9VAuv52jgt9K",
        "colab": {
          "base_uri": "https://localhost:8080/",
          "height": 309
        },
        "outputId": "5c9edbbc-70f7-41de-abc7-e98dbb987cc6"
      },
      "source": [
        "df.plot()"
      ],
      "execution_count": 24,
      "outputs": [
        {
          "output_type": "execute_result",
          "data": {
            "text/plain": [
              "<matplotlib.axes._subplots.AxesSubplot at 0x7f97cdbd2410>"
            ]
          },
          "metadata": {},
          "execution_count": 24
        },
        {
          "output_type": "display_data",
          "data": {
            "image/png": "[encoded data removed]",
            "text/plain": [
              "<Figure size 432x288 with 1 Axes>"
            ]
          },
          "metadata": {
            "needs_background": "light"
          }
        }
      ]
    },
    {
      "cell_type": "markdown",
      "metadata": {
        "id": "dKpz4jS5ESTR"
      },
      "source": [
        "Exponential Smoothing - "
      ]
    },
    {
      "cell_type": "markdown",
      "metadata": {
        "id": "p66z2la9Xmqv"
      },
      "source": [
        "![alt text](https://people.duke.edu/~rnau/411avg_files/image028.png)"
      ]
    },
    {
      "cell_type": "code",
      "metadata": {
        "id": "NvObBoi3_eNz",
        "colab": {
          "base_uri": "https://localhost:8080/"
        },
        "outputId": "0c5d454b-7ae5-48be-d065-7f1a5b7ee9b4"
      },
      "source": [
        "df['Passenger_Count'].ewm(alpha=0.7, adjust=False, min_periods=3).mean()"
      ],
      "execution_count": 25,
      "outputs": [
        {
          "output_type": "execute_result",
          "data": {
            "text/plain": [
              "Date\n",
              "1955-01-01           NaN\n",
              "1955-02-01           NaN\n",
              "1955-03-01    257.610000\n",
              "1955-04-01    265.583000\n",
              "1955-05-01    268.674900\n",
              "1955-06-01    301.102470\n",
              "1955-07-01    345.130741\n",
              "1955-08-01    346.439222\n",
              "1955-09-01    322.331767\n",
              "1955-10-01    288.499530\n",
              "1955-11-01    252.449859\n",
              "1955-12-01    270.334958\n",
              "1956-01-01    279.900487\n",
              "1956-02-01    277.870146\n",
              "1956-03-01    305.261044\n",
              "1956-04-01    310.678313\n",
              "1956-05-01    315.803494\n",
              "1956-06-01    356.541048\n",
              "1956-07-01    396.062314\n",
              "1956-08-01    402.318694\n",
              "1956-09-01    369.195608\n",
              "1956-10-01    324.958682\n",
              "1956-11-01    287.187605\n",
              "1956-12-01    300.356281\n",
              "1957-01-01    310.606884\n",
              "1957-02-01    303.882065\n",
              "1957-03-01    340.364620\n",
              "1957-04-01    345.709386\n",
              "1957-05-01    352.212816\n",
              "1957-06-01    401.063845\n",
              "1957-07-01    445.819153\n",
              "1957-08-01    460.645746\n",
              "1957-09-01    420.993724\n",
              "1957-10-01    369.198117\n",
              "1957-11-01    324.259435\n",
              "1957-12-01    332.477831\n",
              "Name: Passenger_Count, dtype: float64"
            ]
          },
          "metadata": {},
          "execution_count": 25
        }
      ]
    },
    {
      "cell_type": "code",
      "metadata": {
        "id": "QOXhMIhH_eLm"
      },
      "source": [
        "df['esm_window_3_7']=df['Passenger_Count'].ewm(alpha=0.7, adjust=False,min_periods=3).mean().shift(1)"
      ],
      "execution_count": 26,
      "outputs": []
    },
    {
      "cell_type": "code",
      "metadata": {
        "id": "LD8mhtOx_eHx",
        "colab": {
          "base_uri": "https://localhost:8080/",
          "height": 1000
        },
        "outputId": "192ea6ed-20d6-4693-831d-6986f4a9d969"
      },
      "source": [
        "df"
      ],
      "execution_count": 27,
      "outputs": [
        {
          "output_type": "execute_result",
          "data": {
            "text/html": [
              "<div>\n",
              "<style scoped>\n",
              "    .dataframe tbody tr th:only-of-type {\n",
              "        vertical-align: middle;\n",
              "    }\n",
              "\n",
              "    .dataframe tbody tr th {\n",
              "        vertical-align: top;\n",
              "    }\n",
              "\n",
              "    .dataframe thead th {\n",
              "        text-align: right;\n",
              "    }\n",
              "</style>\n",
              "<table border=\"1\" class=\"dataframe\">\n",
              "  <thead>\n",
              "    <tr style=\"text-align: right;\">\n",
              "      <th></th>\n",
              "      <th>Passenger_Count</th>\n",
              "      <th>ma_rolling_3</th>\n",
              "      <th>wma_rolling_3</th>\n",
              "      <th>ewm_window_3</th>\n",
              "      <th>esm_window_3_7</th>\n",
              "    </tr>\n",
              "    <tr>\n",
              "      <th>Date</th>\n",
              "      <th></th>\n",
              "      <th></th>\n",
              "      <th></th>\n",
              "      <th></th>\n",
              "      <th></th>\n",
              "    </tr>\n",
              "  </thead>\n",
              "  <tbody>\n",
              "    <tr>\n",
              "      <th>1955-01-01</th>\n",
              "      <td>242</td>\n",
              "      <td>NaN</td>\n",
              "      <td>NaN</td>\n",
              "      <td>NaN</td>\n",
              "      <td>NaN</td>\n",
              "    </tr>\n",
              "    <tr>\n",
              "      <th>1955-02-01</th>\n",
              "      <td>233</td>\n",
              "      <td>NaN</td>\n",
              "      <td>NaN</td>\n",
              "      <td>242.000000</td>\n",
              "      <td>NaN</td>\n",
              "    </tr>\n",
              "    <tr>\n",
              "      <th>1955-03-01</th>\n",
              "      <td>267</td>\n",
              "      <td>NaN</td>\n",
              "      <td>NaN</td>\n",
              "      <td>237.500000</td>\n",
              "      <td>NaN</td>\n",
              "    </tr>\n",
              "    <tr>\n",
              "      <th>1955-04-01</th>\n",
              "      <td>269</td>\n",
              "      <td>247.333333</td>\n",
              "      <td>251.500000</td>\n",
              "      <td>252.250000</td>\n",
              "      <td>257.610000</td>\n",
              "    </tr>\n",
              "    <tr>\n",
              "      <th>1955-05-01</th>\n",
              "      <td>270</td>\n",
              "      <td>256.333333</td>\n",
              "      <td>262.333333</td>\n",
              "      <td>260.625000</td>\n",
              "      <td>265.583000</td>\n",
              "    </tr>\n",
              "    <tr>\n",
              "      <th>1955-06-01</th>\n",
              "      <td>315</td>\n",
              "      <td>268.666667</td>\n",
              "      <td>269.166667</td>\n",
              "      <td>265.312500</td>\n",
              "      <td>268.674900</td>\n",
              "    </tr>\n",
              "    <tr>\n",
              "      <th>1955-07-01</th>\n",
              "      <td>364</td>\n",
              "      <td>284.666667</td>\n",
              "      <td>292.333333</td>\n",
              "      <td>290.156250</td>\n",
              "      <td>301.102470</td>\n",
              "    </tr>\n",
              "    <tr>\n",
              "      <th>1955-08-01</th>\n",
              "      <td>347</td>\n",
              "      <td>316.333333</td>\n",
              "      <td>332.000000</td>\n",
              "      <td>327.078125</td>\n",
              "      <td>345.130741</td>\n",
              "    </tr>\n",
              "    <tr>\n",
              "      <th>1955-09-01</th>\n",
              "      <td>312</td>\n",
              "      <td>342.000000</td>\n",
              "      <td>347.333333</td>\n",
              "      <td>337.039062</td>\n",
              "      <td>346.439222</td>\n",
              "    </tr>\n",
              "    <tr>\n",
              "      <th>1955-10-01</th>\n",
              "      <td>274</td>\n",
              "      <td>341.000000</td>\n",
              "      <td>332.333333</td>\n",
              "      <td>324.519531</td>\n",
              "      <td>322.331767</td>\n",
              "    </tr>\n",
              "    <tr>\n",
              "      <th>1955-11-01</th>\n",
              "      <td>237</td>\n",
              "      <td>311.000000</td>\n",
              "      <td>298.833333</td>\n",
              "      <td>299.259766</td>\n",
              "      <td>288.499530</td>\n",
              "    </tr>\n",
              "    <tr>\n",
              "      <th>1955-12-01</th>\n",
              "      <td>278</td>\n",
              "      <td>274.333333</td>\n",
              "      <td>261.833333</td>\n",
              "      <td>268.129883</td>\n",
              "      <td>252.449859</td>\n",
              "    </tr>\n",
              "    <tr>\n",
              "      <th>1956-01-01</th>\n",
              "      <td>284</td>\n",
              "      <td>263.000000</td>\n",
              "      <td>263.666667</td>\n",
              "      <td>273.064941</td>\n",
              "      <td>270.334958</td>\n",
              "    </tr>\n",
              "    <tr>\n",
              "      <th>1956-02-01</th>\n",
              "      <td>277</td>\n",
              "      <td>266.333333</td>\n",
              "      <td>274.166667</td>\n",
              "      <td>278.532471</td>\n",
              "      <td>279.900487</td>\n",
              "    </tr>\n",
              "    <tr>\n",
              "      <th>1956-03-01</th>\n",
              "      <td>317</td>\n",
              "      <td>279.666667</td>\n",
              "      <td>279.500000</td>\n",
              "      <td>277.766235</td>\n",
              "      <td>277.870146</td>\n",
              "    </tr>\n",
              "    <tr>\n",
              "      <th>1956-04-01</th>\n",
              "      <td>313</td>\n",
              "      <td>292.666667</td>\n",
              "      <td>298.166667</td>\n",
              "      <td>297.383118</td>\n",
              "      <td>305.261044</td>\n",
              "    </tr>\n",
              "    <tr>\n",
              "      <th>1956-05-01</th>\n",
              "      <td>318</td>\n",
              "      <td>302.333333</td>\n",
              "      <td>308.333333</td>\n",
              "      <td>305.191559</td>\n",
              "      <td>310.678313</td>\n",
              "    </tr>\n",
              "    <tr>\n",
              "      <th>1956-06-01</th>\n",
              "      <td>374</td>\n",
              "      <td>316.000000</td>\n",
              "      <td>316.166667</td>\n",
              "      <td>311.595779</td>\n",
              "      <td>315.803494</td>\n",
              "    </tr>\n",
              "    <tr>\n",
              "      <th>1956-07-01</th>\n",
              "      <td>413</td>\n",
              "      <td>335.000000</td>\n",
              "      <td>345.166667</td>\n",
              "      <td>342.797890</td>\n",
              "      <td>356.541048</td>\n",
              "    </tr>\n",
              "    <tr>\n",
              "      <th>1956-08-01</th>\n",
              "      <td>405</td>\n",
              "      <td>368.333333</td>\n",
              "      <td>384.166667</td>\n",
              "      <td>377.898945</td>\n",
              "      <td>396.062314</td>\n",
              "    </tr>\n",
              "    <tr>\n",
              "      <th>1956-09-01</th>\n",
              "      <td>355</td>\n",
              "      <td>397.333333</td>\n",
              "      <td>402.500000</td>\n",
              "      <td>391.449472</td>\n",
              "      <td>402.318694</td>\n",
              "    </tr>\n",
              "    <tr>\n",
              "      <th>1956-10-01</th>\n",
              "      <td>306</td>\n",
              "      <td>391.000000</td>\n",
              "      <td>381.333333</td>\n",
              "      <td>373.224736</td>\n",
              "      <td>369.195608</td>\n",
              "    </tr>\n",
              "    <tr>\n",
              "      <th>1956-11-01</th>\n",
              "      <td>271</td>\n",
              "      <td>355.333333</td>\n",
              "      <td>338.833333</td>\n",
              "      <td>339.612368</td>\n",
              "      <td>324.958682</td>\n",
              "    </tr>\n",
              "    <tr>\n",
              "      <th>1956-12-01</th>\n",
              "      <td>306</td>\n",
              "      <td>310.666667</td>\n",
              "      <td>296.666667</td>\n",
              "      <td>305.306184</td>\n",
              "      <td>287.187605</td>\n",
              "    </tr>\n",
              "    <tr>\n",
              "      <th>1957-01-01</th>\n",
              "      <td>315</td>\n",
              "      <td>294.333333</td>\n",
              "      <td>294.333333</td>\n",
              "      <td>305.653092</td>\n",
              "      <td>300.356281</td>\n",
              "    </tr>\n",
              "    <tr>\n",
              "      <th>1957-02-01</th>\n",
              "      <td>301</td>\n",
              "      <td>297.333333</td>\n",
              "      <td>304.666667</td>\n",
              "      <td>310.326546</td>\n",
              "      <td>310.606884</td>\n",
              "    </tr>\n",
              "    <tr>\n",
              "      <th>1957-03-01</th>\n",
              "      <td>356</td>\n",
              "      <td>307.333333</td>\n",
              "      <td>306.500000</td>\n",
              "      <td>305.663273</td>\n",
              "      <td>303.882065</td>\n",
              "    </tr>\n",
              "    <tr>\n",
              "      <th>1957-04-01</th>\n",
              "      <td>348</td>\n",
              "      <td>324.000000</td>\n",
              "      <td>330.833333</td>\n",
              "      <td>330.831637</td>\n",
              "      <td>340.364620</td>\n",
              "    </tr>\n",
              "    <tr>\n",
              "      <th>1957-05-01</th>\n",
              "      <td>355</td>\n",
              "      <td>335.000000</td>\n",
              "      <td>342.833333</td>\n",
              "      <td>339.415818</td>\n",
              "      <td>345.709386</td>\n",
              "    </tr>\n",
              "    <tr>\n",
              "      <th>1957-06-01</th>\n",
              "      <td>422</td>\n",
              "      <td>353.000000</td>\n",
              "      <td>352.833333</td>\n",
              "      <td>347.207909</td>\n",
              "      <td>352.212816</td>\n",
              "    </tr>\n",
              "    <tr>\n",
              "      <th>1957-07-01</th>\n",
              "      <td>465</td>\n",
              "      <td>375.000000</td>\n",
              "      <td>387.333333</td>\n",
              "      <td>384.603955</td>\n",
              "      <td>401.063845</td>\n",
              "    </tr>\n",
              "    <tr>\n",
              "      <th>1957-08-01</th>\n",
              "      <td>467</td>\n",
              "      <td>414.000000</td>\n",
              "      <td>432.333333</td>\n",
              "      <td>424.801977</td>\n",
              "      <td>445.819153</td>\n",
              "    </tr>\n",
              "    <tr>\n",
              "      <th>1957-09-01</th>\n",
              "      <td>404</td>\n",
              "      <td>451.333333</td>\n",
              "      <td>458.833333</td>\n",
              "      <td>445.900989</td>\n",
              "      <td>460.645746</td>\n",
              "    </tr>\n",
              "    <tr>\n",
              "      <th>1957-10-01</th>\n",
              "      <td>347</td>\n",
              "      <td>445.333333</td>\n",
              "      <td>435.166667</td>\n",
              "      <td>424.950494</td>\n",
              "      <td>420.993724</td>\n",
              "    </tr>\n",
              "    <tr>\n",
              "      <th>1957-11-01</th>\n",
              "      <td>305</td>\n",
              "      <td>406.000000</td>\n",
              "      <td>386.000000</td>\n",
              "      <td>385.975247</td>\n",
              "      <td>369.198117</td>\n",
              "    </tr>\n",
              "    <tr>\n",
              "      <th>1957-12-01</th>\n",
              "      <td>336</td>\n",
              "      <td>352.000000</td>\n",
              "      <td>335.500000</td>\n",
              "      <td>345.487624</td>\n",
              "      <td>324.259435</td>\n",
              "    </tr>\n",
              "  </tbody>\n",
              "</table>\n",
              "</div>"
            ],
            "text/plain": [
              "            Passenger_Count  ma_rolling_3  ...  ewm_window_3  esm_window_3_7\n",
              "Date                                       ...                              \n",
              "1955-01-01              242           NaN  ...           NaN             NaN\n",
              "1955-02-01              233           NaN  ...    242.000000             NaN\n",
              "1955-03-01              267           NaN  ...    237.500000             NaN\n",
              "1955-04-01              269    247.333333  ...    252.250000      257.610000\n",
              "1955-05-01              270    256.333333  ...    260.625000      265.583000\n",
              "1955-06-01              315    268.666667  ...    265.312500      268.674900\n",
              "1955-07-01              364    284.666667  ...    290.156250      301.102470\n",
              "1955-08-01              347    316.333333  ...    327.078125      345.130741\n",
              "1955-09-01              312    342.000000  ...    337.039062      346.439222\n",
              "1955-10-01              274    341.000000  ...    324.519531      322.331767\n",
              "1955-11-01              237    311.000000  ...    299.259766      288.499530\n",
              "1955-12-01              278    274.333333  ...    268.129883      252.449859\n",
              "1956-01-01              284    263.000000  ...    273.064941      270.334958\n",
              "1956-02-01              277    266.333333  ...    278.532471      279.900487\n",
              "1956-03-01              317    279.666667  ...    277.766235      277.870146\n",
              "1956-04-01              313    292.666667  ...    297.383118      305.261044\n",
              "1956-05-01              318    302.333333  ...    305.191559      310.678313\n",
              "1956-06-01              374    316.000000  ...    311.595779      315.803494\n",
              "1956-07-01              413    335.000000  ...    342.797890      356.541048\n",
              "1956-08-01              405    368.333333  ...    377.898945      396.062314\n",
              "1956-09-01              355    397.333333  ...    391.449472      402.318694\n",
              "1956-10-01              306    391.000000  ...    373.224736      369.195608\n",
              "1956-11-01              271    355.333333  ...    339.612368      324.958682\n",
              "1956-12-01              306    310.666667  ...    305.306184      287.187605\n",
              "1957-01-01              315    294.333333  ...    305.653092      300.356281\n",
              "1957-02-01              301    297.333333  ...    310.326546      310.606884\n",
              "1957-03-01              356    307.333333  ...    305.663273      303.882065\n",
              "1957-04-01              348    324.000000  ...    330.831637      340.364620\n",
              "1957-05-01              355    335.000000  ...    339.415818      345.709386\n",
              "1957-06-01              422    353.000000  ...    347.207909      352.212816\n",
              "1957-07-01              465    375.000000  ...    384.603955      401.063845\n",
              "1957-08-01              467    414.000000  ...    424.801977      445.819153\n",
              "1957-09-01              404    451.333333  ...    445.900989      460.645746\n",
              "1957-10-01              347    445.333333  ...    424.950494      420.993724\n",
              "1957-11-01              305    406.000000  ...    385.975247      369.198117\n",
              "1957-12-01              336    352.000000  ...    345.487624      324.259435\n",
              "\n",
              "[36 rows x 5 columns]"
            ]
          },
          "metadata": {},
          "execution_count": 27
        }
      ]
    },
    {
      "cell_type": "code",
      "metadata": {
        "id": "e5mQAAKx_eFY",
        "colab": {
          "base_uri": "https://localhost:8080/",
          "height": 309
        },
        "outputId": "05189281-2a33-4388-8dba-d9bd001f1f94"
      },
      "source": [
        "df[['Passenger_Count','esm_window_3_7']].plot()"
      ],
      "execution_count": 28,
      "outputs": [
        {
          "output_type": "execute_result",
          "data": {
            "text/plain": [
              "<matplotlib.axes._subplots.AxesSubplot at 0x7f97cdb3c4d0>"
            ]
          },
          "metadata": {},
          "execution_count": 28
        },
        {
          "output_type": "display_data",
          "data": {
            "image/png": "[encoded data removed]",
            "text/plain": [
              "<Figure size 432x288 with 1 Axes>"
            ]
          },
          "metadata": {
            "needs_background": "light"
          }
        }
      ]
    },
    {
      "cell_type": "code",
      "metadata": {
        "id": "b8rRNAbrfcWu",
        "colab": {
          "base_uri": "https://localhost:8080/",
          "height": 309
        },
        "outputId": "2ae15caf-01e6-4048-8d68-e1cc633d8ef8"
      },
      "source": [
        "df.plot()"
      ],
      "execution_count": 29,
      "outputs": [
        {
          "output_type": "execute_result",
          "data": {
            "text/plain": [
              "<matplotlib.axes._subplots.AxesSubplot at 0x7f97cda72e10>"
            ]
          },
          "metadata": {},
          "execution_count": 29
        },
        {
          "output_type": "display_data",
          "data": {
            "image/png": "[encoded data removed]",
            "text/plain": [
              "<Figure size 432x288 with 1 Axes>"
            ]
          },
          "metadata": {
            "needs_background": "light"
          }
        }
      ]
    },
    {
      "cell_type": "code",
      "metadata": {
        "id": "uCttA7EM_eCg",
        "colab": {
          "base_uri": "https://localhost:8080/"
        },
        "outputId": "339a51aa-3f00-4839-fd73-2b18494ce47b"
      },
      "source": [
        "df['Passenger_Count'].ewm(alpha=0.3, adjust=False, min_periods=3).mean()"
      ],
      "execution_count": 30,
      "outputs": [
        {
          "output_type": "execute_result",
          "data": {
            "text/plain": [
              "Date\n",
              "1955-01-01           NaN\n",
              "1955-02-01           NaN\n",
              "1955-03-01    247.610000\n",
              "1955-04-01    254.027000\n",
              "1955-05-01    258.818900\n",
              "1955-06-01    275.673230\n",
              "1955-07-01    302.171261\n",
              "1955-08-01    315.619883\n",
              "1955-09-01    314.533918\n",
              "1955-10-01    302.373743\n",
              "1955-11-01    282.761620\n",
              "1955-12-01    281.333134\n",
              "1956-01-01    282.133194\n",
              "1956-02-01    280.593236\n",
              "1956-03-01    291.515265\n",
              "1956-04-01    297.960685\n",
              "1956-05-01    303.972480\n",
              "1956-06-01    324.980736\n",
              "1956-07-01    351.386515\n",
              "1956-08-01    367.470561\n",
              "1956-09-01    363.729392\n",
              "1956-10-01    346.410575\n",
              "1956-11-01    323.787402\n",
              "1956-12-01    318.451182\n",
              "1957-01-01    317.415827\n",
              "1957-02-01    312.491079\n",
              "1957-03-01    325.543755\n",
              "1957-04-01    332.280629\n",
              "1957-05-01    339.096440\n",
              "1957-06-01    363.967508\n",
              "1957-07-01    394.277256\n",
              "1957-08-01    416.094079\n",
              "1957-09-01    412.465855\n",
              "1957-10-01    392.826099\n",
              "1957-11-01    366.478269\n",
              "1957-12-01    357.334788\n",
              "Name: Passenger_Count, dtype: float64"
            ]
          },
          "metadata": {},
          "execution_count": 30
        }
      ]
    },
    {
      "cell_type": "code",
      "metadata": {
        "id": "rNmsEDBw_d_s"
      },
      "source": [
        "df['esm_window_3_3']=df['Passenger_Count'].ewm(alpha=0.3, adjust=False,min_periods=3).mean().shift(1)"
      ],
      "execution_count": 31,
      "outputs": []
    },
    {
      "cell_type": "code",
      "metadata": {
        "id": "vyFxXg_U_d8q",
        "colab": {
          "base_uri": "https://localhost:8080/",
          "height": 1000
        },
        "outputId": "cbaa6f29-9239-4272-d668-fcbe21efebf5"
      },
      "source": [
        "df"
      ],
      "execution_count": 32,
      "outputs": [
        {
          "output_type": "execute_result",
          "data": {
            "text/html": [
              "<div>\n",
              "<style scoped>\n",
              "    .dataframe tbody tr th:only-of-type {\n",
              "        vertical-align: middle;\n",
              "    }\n",
              "\n",
              "    .dataframe tbody tr th {\n",
              "        vertical-align: top;\n",
              "    }\n",
              "\n",
              "    .dataframe thead th {\n",
              "        text-align: right;\n",
              "    }\n",
              "</style>\n",
              "<table border=\"1\" class=\"dataframe\">\n",
              "  <thead>\n",
              "    <tr style=\"text-align: right;\">\n",
              "      <th></th>\n",
              "      <th>Passenger_Count</th>\n",
              "      <th>ma_rolling_3</th>\n",
              "      <th>wma_rolling_3</th>\n",
              "      <th>ewm_window_3</th>\n",
              "      <th>esm_window_3_7</th>\n",
              "      <th>esm_window_3_3</th>\n",
              "    </tr>\n",
              "    <tr>\n",
              "      <th>Date</th>\n",
              "      <th></th>\n",
              "      <th></th>\n",
              "      <th></th>\n",
              "      <th></th>\n",
              "      <th></th>\n",
              "      <th></th>\n",
              "    </tr>\n",
              "  </thead>\n",
              "  <tbody>\n",
              "    <tr>\n",
              "      <th>1955-01-01</th>\n",
              "      <td>242</td>\n",
              "      <td>NaN</td>\n",
              "      <td>NaN</td>\n",
              "      <td>NaN</td>\n",
              "      <td>NaN</td>\n",
              "      <td>NaN</td>\n",
              "    </tr>\n",
              "    <tr>\n",
              "      <th>1955-02-01</th>\n",
              "      <td>233</td>\n",
              "      <td>NaN</td>\n",
              "      <td>NaN</td>\n",
              "      <td>242.000000</td>\n",
              "      <td>NaN</td>\n",
              "      <td>NaN</td>\n",
              "    </tr>\n",
              "    <tr>\n",
              "      <th>1955-03-01</th>\n",
              "      <td>267</td>\n",
              "      <td>NaN</td>\n",
              "      <td>NaN</td>\n",
              "      <td>237.500000</td>\n",
              "      <td>NaN</td>\n",
              "      <td>NaN</td>\n",
              "    </tr>\n",
              "    <tr>\n",
              "      <th>1955-04-01</th>\n",
              "      <td>269</td>\n",
              "      <td>247.333333</td>\n",
              "      <td>251.500000</td>\n",
              "      <td>252.250000</td>\n",
              "      <td>257.610000</td>\n",
              "      <td>247.610000</td>\n",
              "    </tr>\n",
              "    <tr>\n",
              "      <th>1955-05-01</th>\n",
              "      <td>270</td>\n",
              "      <td>256.333333</td>\n",
              "      <td>262.333333</td>\n",
              "      <td>260.625000</td>\n",
              "      <td>265.583000</td>\n",
              "      <td>254.027000</td>\n",
              "    </tr>\n",
              "    <tr>\n",
              "      <th>1955-06-01</th>\n",
              "      <td>315</td>\n",
              "      <td>268.666667</td>\n",
              "      <td>269.166667</td>\n",
              "      <td>265.312500</td>\n",
              "      <td>268.674900</td>\n",
              "      <td>258.818900</td>\n",
              "    </tr>\n",
              "    <tr>\n",
              "      <th>1955-07-01</th>\n",
              "      <td>364</td>\n",
              "      <td>284.666667</td>\n",
              "      <td>292.333333</td>\n",
              "      <td>290.156250</td>\n",
              "      <td>301.102470</td>\n",
              "      <td>275.673230</td>\n",
              "    </tr>\n",
              "    <tr>\n",
              "      <th>1955-08-01</th>\n",
              "      <td>347</td>\n",
              "      <td>316.333333</td>\n",
              "      <td>332.000000</td>\n",
              "      <td>327.078125</td>\n",
              "      <td>345.130741</td>\n",
              "      <td>302.171261</td>\n",
              "    </tr>\n",
              "    <tr>\n",
              "      <th>1955-09-01</th>\n",
              "      <td>312</td>\n",
              "      <td>342.000000</td>\n",
              "      <td>347.333333</td>\n",
              "      <td>337.039062</td>\n",
              "      <td>346.439222</td>\n",
              "      <td>315.619883</td>\n",
              "    </tr>\n",
              "    <tr>\n",
              "      <th>1955-10-01</th>\n",
              "      <td>274</td>\n",
              "      <td>341.000000</td>\n",
              "      <td>332.333333</td>\n",
              "      <td>324.519531</td>\n",
              "      <td>322.331767</td>\n",
              "      <td>314.533918</td>\n",
              "    </tr>\n",
              "    <tr>\n",
              "      <th>1955-11-01</th>\n",
              "      <td>237</td>\n",
              "      <td>311.000000</td>\n",
              "      <td>298.833333</td>\n",
              "      <td>299.259766</td>\n",
              "      <td>288.499530</td>\n",
              "      <td>302.373743</td>\n",
              "    </tr>\n",
              "    <tr>\n",
              "      <th>1955-12-01</th>\n",
              "      <td>278</td>\n",
              "      <td>274.333333</td>\n",
              "      <td>261.833333</td>\n",
              "      <td>268.129883</td>\n",
              "      <td>252.449859</td>\n",
              "      <td>282.761620</td>\n",
              "    </tr>\n",
              "    <tr>\n",
              "      <th>1956-01-01</th>\n",
              "      <td>284</td>\n",
              "      <td>263.000000</td>\n",
              "      <td>263.666667</td>\n",
              "      <td>273.064941</td>\n",
              "      <td>270.334958</td>\n",
              "      <td>281.333134</td>\n",
              "    </tr>\n",
              "    <tr>\n",
              "      <th>1956-02-01</th>\n",
              "      <td>277</td>\n",
              "      <td>266.333333</td>\n",
              "      <td>274.166667</td>\n",
              "      <td>278.532471</td>\n",
              "      <td>279.900487</td>\n",
              "      <td>282.133194</td>\n",
              "    </tr>\n",
              "    <tr>\n",
              "      <th>1956-03-01</th>\n",
              "      <td>317</td>\n",
              "      <td>279.666667</td>\n",
              "      <td>279.500000</td>\n",
              "      <td>277.766235</td>\n",
              "      <td>277.870146</td>\n",
              "      <td>280.593236</td>\n",
              "    </tr>\n",
              "    <tr>\n",
              "      <th>1956-04-01</th>\n",
              "      <td>313</td>\n",
              "      <td>292.666667</td>\n",
              "      <td>298.166667</td>\n",
              "      <td>297.383118</td>\n",
              "      <td>305.261044</td>\n",
              "      <td>291.515265</td>\n",
              "    </tr>\n",
              "    <tr>\n",
              "      <th>1956-05-01</th>\n",
              "      <td>318</td>\n",
              "      <td>302.333333</td>\n",
              "      <td>308.333333</td>\n",
              "      <td>305.191559</td>\n",
              "      <td>310.678313</td>\n",
              "      <td>297.960685</td>\n",
              "    </tr>\n",
              "    <tr>\n",
              "      <th>1956-06-01</th>\n",
              "      <td>374</td>\n",
              "      <td>316.000000</td>\n",
              "      <td>316.166667</td>\n",
              "      <td>311.595779</td>\n",
              "      <td>315.803494</td>\n",
              "      <td>303.972480</td>\n",
              "    </tr>\n",
              "    <tr>\n",
              "      <th>1956-07-01</th>\n",
              "      <td>413</td>\n",
              "      <td>335.000000</td>\n",
              "      <td>345.166667</td>\n",
              "      <td>342.797890</td>\n",
              "      <td>356.541048</td>\n",
              "      <td>324.980736</td>\n",
              "    </tr>\n",
              "    <tr>\n",
              "      <th>1956-08-01</th>\n",
              "      <td>405</td>\n",
              "      <td>368.333333</td>\n",
              "      <td>384.166667</td>\n",
              "      <td>377.898945</td>\n",
              "      <td>396.062314</td>\n",
              "      <td>351.386515</td>\n",
              "    </tr>\n",
              "    <tr>\n",
              "      <th>1956-09-01</th>\n",
              "      <td>355</td>\n",
              "      <td>397.333333</td>\n",
              "      <td>402.500000</td>\n",
              "      <td>391.449472</td>\n",
              "      <td>402.318694</td>\n",
              "      <td>367.470561</td>\n",
              "    </tr>\n",
              "    <tr>\n",
              "      <th>1956-10-01</th>\n",
              "      <td>306</td>\n",
              "      <td>391.000000</td>\n",
              "      <td>381.333333</td>\n",
              "      <td>373.224736</td>\n",
              "      <td>369.195608</td>\n",
              "      <td>363.729392</td>\n",
              "    </tr>\n",
              "    <tr>\n",
              "      <th>1956-11-01</th>\n",
              "      <td>271</td>\n",
              "      <td>355.333333</td>\n",
              "      <td>338.833333</td>\n",
              "      <td>339.612368</td>\n",
              "      <td>324.958682</td>\n",
              "      <td>346.410575</td>\n",
              "    </tr>\n",
              "    <tr>\n",
              "      <th>1956-12-01</th>\n",
              "      <td>306</td>\n",
              "      <td>310.666667</td>\n",
              "      <td>296.666667</td>\n",
              "      <td>305.306184</td>\n",
              "      <td>287.187605</td>\n",
              "      <td>323.787402</td>\n",
              "    </tr>\n",
              "    <tr>\n",
              "      <th>1957-01-01</th>\n",
              "      <td>315</td>\n",
              "      <td>294.333333</td>\n",
              "      <td>294.333333</td>\n",
              "      <td>305.653092</td>\n",
              "      <td>300.356281</td>\n",
              "      <td>318.451182</td>\n",
              "    </tr>\n",
              "    <tr>\n",
              "      <th>1957-02-01</th>\n",
              "      <td>301</td>\n",
              "      <td>297.333333</td>\n",
              "      <td>304.666667</td>\n",
              "      <td>310.326546</td>\n",
              "      <td>310.606884</td>\n",
              "      <td>317.415827</td>\n",
              "    </tr>\n",
              "    <tr>\n",
              "      <th>1957-03-01</th>\n",
              "      <td>356</td>\n",
              "      <td>307.333333</td>\n",
              "      <td>306.500000</td>\n",
              "      <td>305.663273</td>\n",
              "      <td>303.882065</td>\n",
              "      <td>312.491079</td>\n",
              "    </tr>\n",
              "    <tr>\n",
              "      <th>1957-04-01</th>\n",
              "      <td>348</td>\n",
              "      <td>324.000000</td>\n",
              "      <td>330.833333</td>\n",
              "      <td>330.831637</td>\n",
              "      <td>340.364620</td>\n",
              "      <td>325.543755</td>\n",
              "    </tr>\n",
              "    <tr>\n",
              "      <th>1957-05-01</th>\n",
              "      <td>355</td>\n",
              "      <td>335.000000</td>\n",
              "      <td>342.833333</td>\n",
              "      <td>339.415818</td>\n",
              "      <td>345.709386</td>\n",
              "      <td>332.280629</td>\n",
              "    </tr>\n",
              "    <tr>\n",
              "      <th>1957-06-01</th>\n",
              "      <td>422</td>\n",
              "      <td>353.000000</td>\n",
              "      <td>352.833333</td>\n",
              "      <td>347.207909</td>\n",
              "      <td>352.212816</td>\n",
              "      <td>339.096440</td>\n",
              "    </tr>\n",
              "    <tr>\n",
              "      <th>1957-07-01</th>\n",
              "      <td>465</td>\n",
              "      <td>375.000000</td>\n",
              "      <td>387.333333</td>\n",
              "      <td>384.603955</td>\n",
              "      <td>401.063845</td>\n",
              "      <td>363.967508</td>\n",
              "    </tr>\n",
              "    <tr>\n",
              "      <th>1957-08-01</th>\n",
              "      <td>467</td>\n",
              "      <td>414.000000</td>\n",
              "      <td>432.333333</td>\n",
              "      <td>424.801977</td>\n",
              "      <td>445.819153</td>\n",
              "      <td>394.277256</td>\n",
              "    </tr>\n",
              "    <tr>\n",
              "      <th>1957-09-01</th>\n",
              "      <td>404</td>\n",
              "      <td>451.333333</td>\n",
              "      <td>458.833333</td>\n",
              "      <td>445.900989</td>\n",
              "      <td>460.645746</td>\n",
              "      <td>416.094079</td>\n",
              "    </tr>\n",
              "    <tr>\n",
              "      <th>1957-10-01</th>\n",
              "      <td>347</td>\n",
              "      <td>445.333333</td>\n",
              "      <td>435.166667</td>\n",
              "      <td>424.950494</td>\n",
              "      <td>420.993724</td>\n",
              "      <td>412.465855</td>\n",
              "    </tr>\n",
              "    <tr>\n",
              "      <th>1957-11-01</th>\n",
              "      <td>305</td>\n",
              "      <td>406.000000</td>\n",
              "      <td>386.000000</td>\n",
              "      <td>385.975247</td>\n",
              "      <td>369.198117</td>\n",
              "      <td>392.826099</td>\n",
              "    </tr>\n",
              "    <tr>\n",
              "      <th>1957-12-01</th>\n",
              "      <td>336</td>\n",
              "      <td>352.000000</td>\n",
              "      <td>335.500000</td>\n",
              "      <td>345.487624</td>\n",
              "      <td>324.259435</td>\n",
              "      <td>366.478269</td>\n",
              "    </tr>\n",
              "  </tbody>\n",
              "</table>\n",
              "</div>"
            ],
            "text/plain": [
              "            Passenger_Count  ma_rolling_3  ...  esm_window_3_7  esm_window_3_3\n",
              "Date                                       ...                                \n",
              "1955-01-01              242           NaN  ...             NaN             NaN\n",
              "1955-02-01              233           NaN  ...             NaN             NaN\n",
              "1955-03-01              267           NaN  ...             NaN             NaN\n",
              "1955-04-01              269    247.333333  ...      257.610000      247.610000\n",
              "1955-05-01              270    256.333333  ...      265.583000      254.027000\n",
              "1955-06-01              315    268.666667  ...      268.674900      258.818900\n",
              "1955-07-01              364    284.666667  ...      301.102470      275.673230\n",
              "1955-08-01              347    316.333333  ...      345.130741      302.171261\n",
              "1955-09-01              312    342.000000  ...      346.439222      315.619883\n",
              "1955-10-01              274    341.000000  ...      322.331767      314.533918\n",
              "1955-11-01              237    311.000000  ...      288.499530      302.373743\n",
              "1955-12-01              278    274.333333  ...      252.449859      282.761620\n",
              "1956-01-01              284    263.000000  ...      270.334958      281.333134\n",
              "1956-02-01              277    266.333333  ...      279.900487      282.133194\n",
              "1956-03-01              317    279.666667  ...      277.870146      280.593236\n",
              "1956-04-01              313    292.666667  ...      305.261044      291.515265\n",
              "1956-05-01              318    302.333333  ...      310.678313      297.960685\n",
              "1956-06-01              374    316.000000  ...      315.803494      303.972480\n",
              "1956-07-01              413    335.000000  ...      356.541048      324.980736\n",
              "1956-08-01              405    368.333333  ...      396.062314      351.386515\n",
              "1956-09-01              355    397.333333  ...      402.318694      367.470561\n",
              "1956-10-01              306    391.000000  ...      369.195608      363.729392\n",
              "1956-11-01              271    355.333333  ...      324.958682      346.410575\n",
              "1956-12-01              306    310.666667  ...      287.187605      323.787402\n",
              "1957-01-01              315    294.333333  ...      300.356281      318.451182\n",
              "1957-02-01              301    297.333333  ...      310.606884      317.415827\n",
              "1957-03-01              356    307.333333  ...      303.882065      312.491079\n",
              "1957-04-01              348    324.000000  ...      340.364620      325.543755\n",
              "1957-05-01              355    335.000000  ...      345.709386      332.280629\n",
              "1957-06-01              422    353.000000  ...      352.212816      339.096440\n",
              "1957-07-01              465    375.000000  ...      401.063845      363.967508\n",
              "1957-08-01              467    414.000000  ...      445.819153      394.277256\n",
              "1957-09-01              404    451.333333  ...      460.645746      416.094079\n",
              "1957-10-01              347    445.333333  ...      420.993724      412.465855\n",
              "1957-11-01              305    406.000000  ...      369.198117      392.826099\n",
              "1957-12-01              336    352.000000  ...      324.259435      366.478269\n",
              "\n",
              "[36 rows x 6 columns]"
            ]
          },
          "metadata": {},
          "execution_count": 32
        }
      ]
    },
    {
      "cell_type": "code",
      "metadata": {
        "id": "i5K4-vwa_d5s",
        "colab": {
          "base_uri": "https://localhost:8080/",
          "height": 309
        },
        "outputId": "a9dabe82-cb00-4230-c81d-00090b4999f5"
      },
      "source": [
        "df[['Passenger_Count','esm_window_3_3']].plot()"
      ],
      "execution_count": 33,
      "outputs": [
        {
          "output_type": "execute_result",
          "data": {
            "text/plain": [
              "<matplotlib.axes._subplots.AxesSubplot at 0x7f97cd958b90>"
            ]
          },
          "metadata": {},
          "execution_count": 33
        },
        {
          "output_type": "display_data",
          "data": {
            "image/png": "[encoded data removed]",
            "text/plain": [
              "<Figure size 432x288 with 1 Axes>"
            ]
          },
          "metadata": {
            "needs_background": "light"
          }
        }
      ]
    },
    {
      "cell_type": "code",
      "metadata": {
        "id": "-71-HtqP_d3I",
        "colab": {
          "base_uri": "https://localhost:8080/",
          "height": 309
        },
        "outputId": "72614b7b-1644-4271-d34e-c86803490e79"
      },
      "source": [
        "df[['Passenger_Count','esm_window_3_7', 'esm_window_3_3']].plot()"
      ],
      "execution_count": 34,
      "outputs": [
        {
          "output_type": "execute_result",
          "data": {
            "text/plain": [
              "<matplotlib.axes._subplots.AxesSubplot at 0x7f97d4e9bc90>"
            ]
          },
          "metadata": {},
          "execution_count": 34
        },
        {
          "output_type": "display_data",
          "data": {
            "image/png": "[encoded data removed]",
            "text/plain": [
              "<Figure size 432x288 with 1 Axes>"
            ]
          },
          "metadata": {
            "needs_background": "light"
          }
        }
      ]
    },
    {
      "cell_type": "markdown",
      "metadata": {
        "id": "uhcPr9xknBNt"
      },
      "source": [
        "$RMSE = \\sqrt{(\\frac{1}{n})\\sum_{i=1}^{n}(y_{i} - x_{i})^{2}}$"
      ]
    },
    {
      "cell_type": "code",
      "metadata": {
        "id": "HYvGM7b-_dxS",
        "colab": {
          "base_uri": "https://localhost:8080/"
        },
        "outputId": "f5b4b9e5-6a74-41ff-eace-f193be8e2591"
      },
      "source": [
        "((df['Passenger_Count']-df['ma_rolling_3'])**2).mean()**0.5"
      ],
      "execution_count": 35,
      "outputs": [
        {
          "output_type": "execute_result",
          "data": {
            "text/plain": [
              "52.88307412225133"
            ]
          },
          "metadata": {},
          "execution_count": 35
        }
      ]
    },
    {
      "cell_type": "code",
      "metadata": {
        "id": "1arUawX-_dt3",
        "colab": {
          "base_uri": "https://localhost:8080/"
        },
        "outputId": "d9db6ae8-4ce4-493e-f202-742a65e4c267"
      },
      "source": [
        "((df['Passenger_Count']-df['wma_rolling_3'])**2).mean()**0.5"
      ],
      "execution_count": 36,
      "outputs": [
        {
          "output_type": "execute_result",
          "data": {
            "text/plain": [
              "46.83841950885557"
            ]
          },
          "metadata": {},
          "execution_count": 36
        }
      ]
    },
    {
      "cell_type": "code",
      "metadata": {
        "id": "MUWkFpAl_dqN",
        "colab": {
          "base_uri": "https://localhost:8080/"
        },
        "outputId": "c40e66fe-a389-4216-c2c3-b576f370fa61"
      },
      "source": [
        "((df['Passenger_Count']-df['ewm_window_3'])**2).mean()**0.5"
      ],
      "execution_count": 37,
      "outputs": [
        {
          "output_type": "execute_result",
          "data": {
            "text/plain": [
              "44.89228592555097"
            ]
          },
          "metadata": {},
          "execution_count": 37
        }
      ]
    },
    {
      "cell_type": "code",
      "metadata": {
        "id": "sKzKitcI_dnB",
        "colab": {
          "base_uri": "https://localhost:8080/"
        },
        "outputId": "c4993c84-bd62-4ede-d5fc-3611165bf928"
      },
      "source": [
        "((df['Passenger_Count']-df['esm_window_3_7'])**2).mean()**0.5"
      ],
      "execution_count": 38,
      "outputs": [
        {
          "output_type": "execute_result",
          "data": {
            "text/plain": [
              "41.41130578302369"
            ]
          },
          "metadata": {},
          "execution_count": 38
        }
      ]
    },
    {
      "cell_type": "code",
      "metadata": {
        "id": "V44L0DG3_dhD",
        "colab": {
          "base_uri": "https://localhost:8080/"
        },
        "outputId": "a28fe22b-078d-4e15-df51-1e991eeaacd9"
      },
      "source": [
        "((df['Passenger_Count']-df['esm_window_3_3'])**2).mean()**0.5"
      ],
      "execution_count": 39,
      "outputs": [
        {
          "output_type": "execute_result",
          "data": {
            "text/plain": [
              "50.90401589350318"
            ]
          },
          "metadata": {},
          "execution_count": 39
        }
      ]
    },
    {
      "cell_type": "code",
      "metadata": {
        "id": "kkHpfx405Cr2"
      },
      "source": [
        ""
      ],
      "execution_count": 39,
      "outputs": []
    }
  ]
}